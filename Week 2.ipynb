{
 "cells": [
  {
   "cell_type": "markdown",
   "id": "488b27c5-8817-42bd-a075-3c37be00a769",
   "metadata": {},
   "source": [
    "# Resampling\n",
    "\n",
    "The next idea I would like to demonstrate is resampling. This is a method of using a dataset to simmulate the random sampling process on the population in order to obtain estimates for a statistic and its possible varriation. You will see that it is a process that is designed to perform well with larger samples, though truthfully it yields valid results (though with caveats) in any case. It cannot however fix a sampling process that is flawed.\n",
    "\n",
    "---\n",
    "\n",
    "## Bootstrapping\n",
    "\n",
    "Is the specific case of rebuilding a sample of exactly the same size as the original through resampling with replacement.\n",
    "\n",
    "## Procedure\n",
    "\n",
    "The procedure is to build a new sample by sampling from the dataset with replacement. One then computes the statistic of interest from the new sample and records the value. This process is then repeated multiple times. The result range of computed values forms an analogue of the confidence interval, and one can then reproduce hypothesis tests as well. \n",
    "\n",
    "## Simulating Data\n",
    "\n",
    "A Big issue with educational (and other types of data) is that it is often protected under stringent protocols. A method developed by the Health Insurance industry is effective in creating a data set that merely simmulates the original dataset and in particular does not include the record of any indvidual and so can be used in ways that the original data could not be. One can do this by resampling with replacement from the original data forcing it to fit the parameters of a model to preserve what you think would be interesting features (covariances for instance). \n",
    "\n",
    "It is primarily a tool for when the code for a study is in development allowing one to study the analysis process and tools without having to be as careful with the protected data, with the idea that after things are developed we would then run the code for real on the protected data to obtain the final parameters and models.\n",
    "\n"
   ]
  },
  {
   "cell_type": "code",
   "execution_count": 2,
   "id": "4418c98a-f674-4d3d-b6d7-9b7f42a0f5fb",
   "metadata": {},
   "outputs": [
    {
     "data": {
      "text/html": [
       "123"
      ],
      "text/latex": [
       "123"
      ],
      "text/markdown": [
       "123"
      ],
      "text/plain": [
       "[1] 123"
      ]
     },
     "metadata": {},
     "output_type": "display_data"
    }
   ],
   "source": [
    "penguins = read.csv(\"Datasets/penguins_lter.csv\")\n",
    "gentoo = penguins[penguins[,3]=='Gentoo penguin (Pygoscelis papua)',]\n",
    "gentoo_flipper = na.omit(gentoo[,12])\n",
    "# Note I had to add an na.omit\n",
    "\n",
    "length(gentoo_flipper)"
   ]
  },
  {
   "cell_type": "code",
   "execution_count": 12,
   "id": "ce007fa0-931a-4d72-ae0e-cf0bea7bf75c",
   "metadata": {},
   "outputs": [],
   "source": [
    "# Let's bootstrap this dataset a bunch of times and compute the mean each time:\n",
    "\n",
    "data = c()\n",
    "for (i in 1:1000) { \n",
    "  temp = sample(gentoo_flipper, 123, replace = TRUE)\n",
    "  data = c(data, min(temp))\n",
    "}"
   ]
  },
  {
   "cell_type": "code",
   "execution_count": 13,
   "id": "bf9524d5-1406-46b9-9661-5dd5b74dd10b",
   "metadata": {},
   "outputs": [
    {
     "data": {
      "image/png": "[encoded data removed]",
      "text/plain": [
       "Plot with title “Histogram of data”"
      ]
     },
     "metadata": {
      "image/png": {
       "height": 420,
       "width": 420
      }
     },
     "output_type": "display_data"
    }
   ],
   "source": [
    "hist(data)"
   ]
  },
  {
   "cell_type": "code",
   "execution_count": 11,
   "id": "11abe7bb-e7ca-4a8a-968a-b53a56a86cad",
   "metadata": {},
   "outputs": [
    {
     "data": {
      "image/png": "[encoded data removed]",
      "text/plain": [
       "plot without title"
      ]
     },
     "metadata": {
      "image/png": {
       "height": 420,
       "width": 420
      }
     },
     "output_type": "display_data"
    }
   ],
   "source": [
    "boxplot(data)"
   ]
  },
  {
   "cell_type": "markdown",
   "id": "0475d4cc-eff5-4357-a480-9556089245bd",
   "metadata": {},
   "source": [
    "# The Datascience Modeling Process\n",
    "\n",
    "Let's return to the classification of penguins problem. A problem confronting us is to choose a model that gives the *best* prediction of the species of penguins from the inputs that we can manage. More than that, what we want to understand about the model we decide on is what we expect its error to be. \n",
    "\n",
    "Note the danger:  As we increase the complexity of our model we obtain a result which adapts more to the training data. However the training data began as a random sample from a population - and so it contains irreducible errors caused by factors we do not (and in most cases cannot hope to) know.  If our model moves too closely to the training data, it may be responding to these errors rather than actual structure in the population - and we would expect this to then lead to a higher error rate when the model is applied to data it has never seen: the testing set or even worse, new observations. \n",
    "\n",
    "This is called **Overfitting**. \n",
    "\n",
    "Accordingly, much of our effort is going to go into overfitting. We will control for overfitting by repeatedly in the exploration phase of our analysis applying the models we have develop to new testing data that the model has not yet seen. In real applications, with *plenty* of data this process might be nested in multiple layers with a final testing set that is reserved until the final model has been selected and trained. \n",
    "\n",
    "The process of training and testing our model with multiple slices of our dataset is called **Crossvalidation**. And the goal is to find a model that captures true features in the data, avoids the overfitting that arises from responding to irreducible errors in the dataset, and to have a good estimate on the error and its varriation we expect from the final model. \n",
    "\n",
    "## Ethics\n",
    "\n",
    "Note that how much effort one actually puts into this crossvalidation process would be determined by the ethical consideration of how likely errors seem to be, and on what the consequences for errors are. There is a big difference between us playing around with a penguin dataset, and us working for a university on student success data, financial data, or health data. \n",
    "\n",
    "## Cross Validation\n",
    "\n",
    "There are lots of ways to do this. However a common one is to divide the data set randomly into 5 equal size pieces. We will then train our model on four of these pieces using the fifth one as a testing set. We can then repeate that with the same model and parameters five times obtaining an error estimate each time.\n",
    "\n",
    "This will give us five estimates on the error produced by training the model with these parameters on a random training set when the model is applied to data it has not seen. Each individual data point is used four times as a training value and once as a testing value. "
   ]
  },
  {
   "cell_type": "code",
   "execution_count": 14,
   "id": "1b840ca4-b970-40ef-ba1d-ed0ca0ba2605",
   "metadata": {},
   "outputs": [
    {
     "data": {
      "text/html": [
       "<table class=\"dataframe\">\n",
       "<caption>A data.frame: 6 × 3</caption>\n",
       "<thead>\n",
       "\t<tr><th></th><th scope=col>Species</th><th scope=col>Flipper.Length..mm.</th><th scope=col>Culmen.Depth..mm.</th></tr>\n",
       "\t<tr><th></th><th scope=col>&lt;fct&gt;</th><th scope=col>&lt;int&gt;</th><th scope=col>&lt;dbl&gt;</th></tr>\n",
       "</thead>\n",
       "<tbody>\n",
       "\t<tr><th scope=row>1</th><td>Adelie Penguin (Pygoscelis adeliae)</td><td>181</td><td>18.7</td></tr>\n",
       "\t<tr><th scope=row>2</th><td>Adelie Penguin (Pygoscelis adeliae)</td><td>186</td><td>17.4</td></tr>\n",
       "\t<tr><th scope=row>3</th><td>Adelie Penguin (Pygoscelis adeliae)</td><td>195</td><td>18.0</td></tr>\n",
       "\t<tr><th scope=row>5</th><td>Adelie Penguin (Pygoscelis adeliae)</td><td>193</td><td>19.3</td></tr>\n",
       "\t<tr><th scope=row>6</th><td>Adelie Penguin (Pygoscelis adeliae)</td><td>190</td><td>20.6</td></tr>\n",
       "\t<tr><th scope=row>7</th><td>Adelie Penguin (Pygoscelis adeliae)</td><td>181</td><td>17.8</td></tr>\n",
       "</tbody>\n",
       "</table>\n"
      ],
      "text/latex": [
       "A data.frame: 6 × 3\n",
       "\\begin{tabular}{r|lll}\n",
       "  & Species & Flipper.Length..mm. & Culmen.Depth..mm.\\\\\n",
       "  & <fct> & <int> & <dbl>\\\\\n",
       "\\hline\n",
       "\t1 & Adelie Penguin (Pygoscelis adeliae) & 181 & 18.7\\\\\n",
       "\t2 & Adelie Penguin (Pygoscelis adeliae) & 186 & 17.4\\\\\n",
       "\t3 & Adelie Penguin (Pygoscelis adeliae) & 195 & 18.0\\\\\n",
       "\t5 & Adelie Penguin (Pygoscelis adeliae) & 193 & 19.3\\\\\n",
       "\t6 & Adelie Penguin (Pygoscelis adeliae) & 190 & 20.6\\\\\n",
       "\t7 & Adelie Penguin (Pygoscelis adeliae) & 181 & 17.8\\\\\n",
       "\\end{tabular}\n"
      ],
      "text/markdown": [
       "\n",
       "A data.frame: 6 × 3\n",
       "\n",
       "| <!--/--> | Species &lt;fct&gt; | Flipper.Length..mm. &lt;int&gt; | Culmen.Depth..mm. &lt;dbl&gt; |\n",
       "|---|---|---|---|\n",
       "| 1 | Adelie Penguin (Pygoscelis adeliae) | 181 | 18.7 |\n",
       "| 2 | Adelie Penguin (Pygoscelis adeliae) | 186 | 17.4 |\n",
       "| 3 | Adelie Penguin (Pygoscelis adeliae) | 195 | 18.0 |\n",
       "| 5 | Adelie Penguin (Pygoscelis adeliae) | 193 | 19.3 |\n",
       "| 6 | Adelie Penguin (Pygoscelis adeliae) | 190 | 20.6 |\n",
       "| 7 | Adelie Penguin (Pygoscelis adeliae) | 181 | 17.8 |\n",
       "\n"
      ],
      "text/plain": [
       "  Species                             Flipper.Length..mm. Culmen.Depth..mm.\n",
       "1 Adelie Penguin (Pygoscelis adeliae) 181                 18.7             \n",
       "2 Adelie Penguin (Pygoscelis adeliae) 186                 17.4             \n",
       "3 Adelie Penguin (Pygoscelis adeliae) 195                 18.0             \n",
       "5 Adelie Penguin (Pygoscelis adeliae) 193                 19.3             \n",
       "6 Adelie Penguin (Pygoscelis adeliae) 190                 20.6             \n",
       "7 Adelie Penguin (Pygoscelis adeliae) 181                 17.8             "
      ]
     },
     "metadata": {},
     "output_type": "display_data"
    }
   ],
   "source": [
    "# we need to remove the rows with missing data; and also pair the data down to just the values we will use\n",
    "data = penguins[,c(3, 12,11)]\n",
    "data = na.omit(data)\n",
    "data$Species = as.factor(data$Species)   # we are going to use decision trees below, and for them the output column needs to be a factor and the inputs numerical or factors.\n",
    "head(data)"
   ]
  },
  {
   "cell_type": "code",
   "execution_count": 15,
   "id": "d6018ca2-b350-43da-9035-7b0d1e079538",
   "metadata": {},
   "outputs": [],
   "source": [
    "x = sample(nrow(data), nrow(data) )   # Shuffle the row indexes\n",
    "splits = split(x, as.integer((x - 1)/(nrow(data)*0.2)) )   # divide the row indexes up into 5 mostly equal sized pieces\n",
    "shuffles = list()\n",
    "\n",
    "for (i in 1:5) {\n",
    "    shuffles[[i]] = sort(x[splits[[i]]])\n",
    "}"
   ]
  },
  {
   "cell_type": "code",
   "execution_count": 17,
   "id": "6bb6faf6-4d8c-488a-a8d3-ffbd72893bbe",
   "metadata": {},
   "outputs": [
    {
     "data": {
      "text/html": [
       "<style>\n",
       ".list-inline {list-style: none; margin:0; padding: 0}\n",
       ".list-inline>li {display: inline-block}\n",
       ".list-inline>li:not(:last-child)::after {content: \"\\00b7\"; padding: 0 .5ex}\n",
       "</style>\n",
       "<ol class=list-inline><li>7</li><li>9</li><li>14</li><li>19</li><li>22</li><li>23</li><li>28</li><li>30</li><li>36</li><li>38</li><li>40</li><li>41</li><li>42</li><li>69</li><li>70</li><li>72</li><li>73</li><li>84</li><li>88</li><li>92</li><li>98</li><li>101</li><li>105</li><li>116</li><li>119</li><li>121</li><li>127</li><li>132</li><li>134</li><li>149</li><li>150</li><li>156</li><li>162</li><li>163</li><li>165</li><li>175</li><li>177</li><li>183</li><li>198</li><li>200</li><li>206</li><li>211</li><li>212</li><li>214</li><li>219</li><li>221</li><li>227</li><li>232</li><li>237</li><li>240</li><li>243</li><li>252</li><li>259</li><li>261</li><li>272</li><li>274</li><li>278</li><li>279</li><li>287</li><li>301</li><li>302</li><li>304</li><li>307</li><li>308</li><li>314</li><li>326</li><li>327</li><li>332</li><li>338</li></ol>\n"
      ],
      "text/latex": [
       "\\begin{enumerate*}\n",
       "\\item 7\n",
       "\\item 9\n",
       "\\item 14\n",
       "\\item 19\n",
       "\\item 22\n",
       "\\item 23\n",
       "\\item 28\n",
       "\\item 30\n",
       "\\item 36\n",
       "\\item 38\n",
       "\\item 40\n",
       "\\item 41\n",
       "\\item 42\n",
       "\\item 69\n",
       "\\item 70\n",
       "\\item 72\n",
       "\\item 73\n",
       "\\item 84\n",
       "\\item 88\n",
       "\\item 92\n",
       "\\item 98\n",
       "\\item 101\n",
       "\\item 105\n",
       "\\item 116\n",
       "\\item 119\n",
       "\\item 121\n",
       "\\item 127\n",
       "\\item 132\n",
       "\\item 134\n",
       "\\item 149\n",
       "\\item 150\n",
       "\\item 156\n",
       "\\item 162\n",
       "\\item 163\n",
       "\\item 165\n",
       "\\item 175\n",
       "\\item 177\n",
       "\\item 183\n",
       "\\item 198\n",
       "\\item 200\n",
       "\\item 206\n",
       "\\item 211\n",
       "\\item 212\n",
       "\\item 214\n",
       "\\item 219\n",
       "\\item 221\n",
       "\\item 227\n",
       "\\item 232\n",
       "\\item 237\n",
       "\\item 240\n",
       "\\item 243\n",
       "\\item 252\n",
       "\\item 259\n",
       "\\item 261\n",
       "\\item 272\n",
       "\\item 274\n",
       "\\item 278\n",
       "\\item 279\n",
       "\\item 287\n",
       "\\item 301\n",
       "\\item 302\n",
       "\\item 304\n",
       "\\item 307\n",
       "\\item 308\n",
       "\\item 314\n",
       "\\item 326\n",
       "\\item 327\n",
       "\\item 332\n",
       "\\item 338\n",
       "\\end{enumerate*}\n"
      ],
      "text/markdown": [
       "1. 7\n",
       "2. 9\n",
       "3. 14\n",
       "4. 19\n",
       "5. 22\n",
       "6. 23\n",
       "7. 28\n",
       "8. 30\n",
       "9. 36\n",
       "10. 38\n",
       "11. 40\n",
       "12. 41\n",
       "13. 42\n",
       "14. 69\n",
       "15. 70\n",
       "16. 72\n",
       "17. 73\n",
       "18. 84\n",
       "19. 88\n",
       "20. 92\n",
       "21. 98\n",
       "22. 101\n",
       "23. 105\n",
       "24. 116\n",
       "25. 119\n",
       "26. 121\n",
       "27. 127\n",
       "28. 132\n",
       "29. 134\n",
       "30. 149\n",
       "31. 150\n",
       "32. 156\n",
       "33. 162\n",
       "34. 163\n",
       "35. 165\n",
       "36. 175\n",
       "37. 177\n",
       "38. 183\n",
       "39. 198\n",
       "40. 200\n",
       "41. 206\n",
       "42. 211\n",
       "43. 212\n",
       "44. 214\n",
       "45. 219\n",
       "46. 221\n",
       "47. 227\n",
       "48. 232\n",
       "49. 237\n",
       "50. 240\n",
       "51. 243\n",
       "52. 252\n",
       "53. 259\n",
       "54. 261\n",
       "55. 272\n",
       "56. 274\n",
       "57. 278\n",
       "58. 279\n",
       "59. 287\n",
       "60. 301\n",
       "61. 302\n",
       "62. 304\n",
       "63. 307\n",
       "64. 308\n",
       "65. 314\n",
       "66. 326\n",
       "67. 327\n",
       "68. 332\n",
       "69. 338\n",
       "\n",
       "\n"
      ],
      "text/plain": [
       " [1]   7   9  14  19  22  23  28  30  36  38  40  41  42  69  70  72  73  84  88\n",
       "[20]  92  98 101 105 116 119 121 127 132 134 149 150 156 162 163 165 175 177 183\n",
       "[39] 198 200 206 211 212 214 219 221 227 232 237 240 243 252 259 261 272 274 278\n",
       "[58] 279 287 301 302 304 307 308 314 326 327 332 338"
      ]
     },
     "metadata": {},
     "output_type": "display_data"
    }
   ],
   "source": [
    "shuffles[[1]]"
   ]
  },
  {
   "cell_type": "code",
   "execution_count": 18,
   "id": "17c302f0-f6ba-43fb-be60-0c09eeab9fbd",
   "metadata": {},
   "outputs": [],
   "source": [
    "test = list()\n",
    "train = list()\n",
    "\n",
    "for (i in 1:5) {\n",
    "    test[[i]] = data[shuffles[[i]],]\n",
    "    train[[i]] = data[-shuffles[[i]], ]\n",
    "}"
   ]
  },
  {
   "cell_type": "markdown",
   "id": "ccc9558b-54df-4539-9437-2a8a16c261f0",
   "metadata": {},
   "source": [
    "## K Nearest Neighbors Again\n",
    "\n",
    "We can now test this with the k-nearest neighbors algorithm we met last week."
   ]
  },
  {
   "cell_type": "code",
   "execution_count": 19,
   "id": "5cf3debc-f2fa-4e9e-bc73-f8cc551fe45c",
   "metadata": {},
   "outputs": [],
   "source": [
    "library(class)"
   ]
  },
  {
   "cell_type": "code",
   "execution_count": 22,
   "id": "db49d239-3bc5-4185-b640-4ef5ca626e3c",
   "metadata": {},
   "outputs": [],
   "source": [
    "out = c()\n",
    "\n",
    "for (i in 1:5) { \n",
    "    pr = knn(train[[i]][,-1],test[[i]][,-1],cl=train[[i]][,1],k=5)\n",
    "    out = c(out, sum(test[[i]][,1]!=pr)/length(test[[i]][,1]))\n",
    "}\n"
   ]
  },
  {
   "cell_type": "code",
   "execution_count": 23,
   "id": "2abf0c6f-791c-4884-87aa-252c091dd931",
   "metadata": {},
   "outputs": [
    {
     "data": {
      "text/html": [
       "<style>\n",
       ".list-inline {list-style: none; margin:0; padding: 0}\n",
       ".list-inline>li {display: inline-block}\n",
       ".list-inline>li:not(:last-child)::after {content: \"\\00b7\"; padding: 0 .5ex}\n",
       "</style>\n",
       "<ol class=list-inline><li>0.231884057971014</li><li>0.220588235294118</li><li>0.173913043478261</li><li>0.205882352941176</li><li>0.191176470588235</li></ol>\n"
      ],
      "text/latex": [
       "\\begin{enumerate*}\n",
       "\\item 0.231884057971014\n",
       "\\item 0.220588235294118\n",
       "\\item 0.173913043478261\n",
       "\\item 0.205882352941176\n",
       "\\item 0.191176470588235\n",
       "\\end{enumerate*}\n"
      ],
      "text/markdown": [
       "1. 0.231884057971014\n",
       "2. 0.220588235294118\n",
       "3. 0.173913043478261\n",
       "4. 0.205882352941176\n",
       "5. 0.191176470588235\n",
       "\n",
       "\n"
      ],
      "text/plain": [
       "[1] 0.2318841 0.2205882 0.1739130 0.2058824 0.1911765"
      ]
     },
     "metadata": {},
     "output_type": "display_data"
    },
    {
     "data": {
      "text/html": [
       "0.204688832054561"
      ],
      "text/latex": [
       "0.204688832054561"
      ],
      "text/markdown": [
       "0.204688832054561"
      ],
      "text/plain": [
       "[1] 0.2046888"
      ]
     },
     "metadata": {},
     "output_type": "display_data"
    },
    {
     "data": {
      "text/html": [
       "0.0230408816184273"
      ],
      "text/latex": [
       "0.0230408816184273"
      ],
      "text/markdown": [
       "0.0230408816184273"
      ],
      "text/plain": [
       "[1] 0.02304088"
      ]
     },
     "metadata": {},
     "output_type": "display_data"
    }
   ],
   "source": [
    "out\n",
    "mean(out)\n",
    "sd(out)"
   ]
  },
  {
   "cell_type": "markdown",
   "id": "cb7ee1dc-03ea-488e-905b-e3770eab7838",
   "metadata": {},
   "source": [
    "## Decision Trees\n",
    "\n",
    "It's worth looking at some other models now as well. One of the simplest models we can build is called a decision tree. Decision trees are a list of rules to mkae our classification.\n",
    "\n",
    "They are even easier to explain than the KNN algorithm. And we see examples of them all around us:  For example the placement mechanism UNC uses for our courses is a decision tree: https://www.unco.edu/nhs/mathematical-sciences/placement/results.aspx\n",
    "\n",
    "which tries to classify students into their mathemaitcs courses."
   ]
  },
  {
   "cell_type": "code",
   "execution_count": 2,
   "id": "1a4435ef-d5f6-4dac-8b13-58dcad417055",
   "metadata": {},
   "outputs": [],
   "source": [
    "penguins = read.csv(\"Datasets/penguins_lter.csv\")"
   ]
  },
  {
   "cell_type": "code",
   "execution_count": 3,
   "id": "0172a942-557e-4a81-b41f-7815e0d8d348",
   "metadata": {},
   "outputs": [
    {
     "data": {
      "text/html": [
       "<table class=\"dataframe\">\n",
       "<caption>A data.frame: 6 × 3</caption>\n",
       "<thead>\n",
       "\t<tr><th></th><th scope=col>Species</th><th scope=col>Flipper.Length..mm.</th><th scope=col>Culmen.Depth..mm.</th></tr>\n",
       "\t<tr><th></th><th scope=col>&lt;fct&gt;</th><th scope=col>&lt;int&gt;</th><th scope=col>&lt;dbl&gt;</th></tr>\n",
       "</thead>\n",
       "<tbody>\n",
       "\t<tr><th scope=row>1</th><td>Adelie Penguin (Pygoscelis adeliae)</td><td>181</td><td>18.7</td></tr>\n",
       "\t<tr><th scope=row>2</th><td>Adelie Penguin (Pygoscelis adeliae)</td><td>186</td><td>17.4</td></tr>\n",
       "\t<tr><th scope=row>3</th><td>Adelie Penguin (Pygoscelis adeliae)</td><td>195</td><td>18.0</td></tr>\n",
       "\t<tr><th scope=row>5</th><td>Adelie Penguin (Pygoscelis adeliae)</td><td>193</td><td>19.3</td></tr>\n",
       "\t<tr><th scope=row>6</th><td>Adelie Penguin (Pygoscelis adeliae)</td><td>190</td><td>20.6</td></tr>\n",
       "\t<tr><th scope=row>7</th><td>Adelie Penguin (Pygoscelis adeliae)</td><td>181</td><td>17.8</td></tr>\n",
       "</tbody>\n",
       "</table>\n"
      ],
      "text/latex": [
       "A data.frame: 6 × 3\n",
       "\\begin{tabular}{r|lll}\n",
       "  & Species & Flipper.Length..mm. & Culmen.Depth..mm.\\\\\n",
       "  & <fct> & <int> & <dbl>\\\\\n",
       "\\hline\n",
       "\t1 & Adelie Penguin (Pygoscelis adeliae) & 181 & 18.7\\\\\n",
       "\t2 & Adelie Penguin (Pygoscelis adeliae) & 186 & 17.4\\\\\n",
       "\t3 & Adelie Penguin (Pygoscelis adeliae) & 195 & 18.0\\\\\n",
       "\t5 & Adelie Penguin (Pygoscelis adeliae) & 193 & 19.3\\\\\n",
       "\t6 & Adelie Penguin (Pygoscelis adeliae) & 190 & 20.6\\\\\n",
       "\t7 & Adelie Penguin (Pygoscelis adeliae) & 181 & 17.8\\\\\n",
       "\\end{tabular}\n"
      ],
      "text/markdown": [
       "\n",
       "A data.frame: 6 × 3\n",
       "\n",
       "| <!--/--> | Species &lt;fct&gt; | Flipper.Length..mm. &lt;int&gt; | Culmen.Depth..mm. &lt;dbl&gt; |\n",
       "|---|---|---|---|\n",
       "| 1 | Adelie Penguin (Pygoscelis adeliae) | 181 | 18.7 |\n",
       "| 2 | Adelie Penguin (Pygoscelis adeliae) | 186 | 17.4 |\n",
       "| 3 | Adelie Penguin (Pygoscelis adeliae) | 195 | 18.0 |\n",
       "| 5 | Adelie Penguin (Pygoscelis adeliae) | 193 | 19.3 |\n",
       "| 6 | Adelie Penguin (Pygoscelis adeliae) | 190 | 20.6 |\n",
       "| 7 | Adelie Penguin (Pygoscelis adeliae) | 181 | 17.8 |\n",
       "\n"
      ],
      "text/plain": [
       "  Species                             Flipper.Length..mm. Culmen.Depth..mm.\n",
       "1 Adelie Penguin (Pygoscelis adeliae) 181                 18.7             \n",
       "2 Adelie Penguin (Pygoscelis adeliae) 186                 17.4             \n",
       "3 Adelie Penguin (Pygoscelis adeliae) 195                 18.0             \n",
       "5 Adelie Penguin (Pygoscelis adeliae) 193                 19.3             \n",
       "6 Adelie Penguin (Pygoscelis adeliae) 190                 20.6             \n",
       "7 Adelie Penguin (Pygoscelis adeliae) 181                 17.8             "
      ]
     },
     "metadata": {},
     "output_type": "display_data"
    }
   ],
   "source": [
    "# we need to remove the rows with missing data; and also pair the data down to just the values we will use\n",
    "data = penguins[,c(3, 12,11)]\n",
    "data = na.omit(data)\n",
    "data$Species = as.factor(data$Species)   # we are going to use decision trees below, and for them the output column needs to be a factor and the inputs numerical or factors.\n",
    "head(data)"
   ]
  },
  {
   "cell_type": "code",
   "execution_count": 4,
   "id": "a02eb61f-eec2-409a-abae-53cd2dcd17c7",
   "metadata": {},
   "outputs": [
    {
     "name": "stderr",
     "output_type": "stream",
     "text": [
      "── \u001b[1mAttaching packages\u001b[22m ─────────────────────────────────────── tidyverse 1.3.1 ──\n",
      "\n",
      "\u001b[32m✔\u001b[39m \u001b[34mggplot2\u001b[39m 3.3.3     \u001b[32m✔\u001b[39m \u001b[34mpurrr  \u001b[39m 0.3.4\n",
      "\u001b[32m✔\u001b[39m \u001b[34mtibble \u001b[39m 3.1.1     \u001b[32m✔\u001b[39m \u001b[34mdplyr  \u001b[39m 1.0.5\n",
      "\u001b[32m✔\u001b[39m \u001b[34mtidyr  \u001b[39m 1.1.3     \u001b[32m✔\u001b[39m \u001b[34mstringr\u001b[39m 1.4.0\n",
      "\u001b[32m✔\u001b[39m \u001b[34mreadr  \u001b[39m 1.4.0     \u001b[32m✔\u001b[39m \u001b[34mforcats\u001b[39m 0.5.1\n",
      "\n",
      "── \u001b[1mConflicts\u001b[22m ────────────────────────────────────────── tidyverse_conflicts() ──\n",
      "\u001b[31m✖\u001b[39m \u001b[34mdplyr\u001b[39m::\u001b[32mfilter()\u001b[39m masks \u001b[34mstats\u001b[39m::filter()\n",
      "\u001b[31m✖\u001b[39m \u001b[34mdplyr\u001b[39m::\u001b[32mlag()\u001b[39m    masks \u001b[34mstats\u001b[39m::lag()\n",
      "\n",
      "Registered S3 method overwritten by 'tree':\n",
      "  method     from\n",
      "  print.tree cli \n",
      "\n"
     ]
    }
   ],
   "source": [
    "library(tidyverse)\n",
    "library(tree)\n",
    "library(rpart)\n",
    "library(rpart.plot)"
   ]
  },
  {
   "cell_type": "code",
   "execution_count": 7,
   "id": "a3f329a8-54d2-40f1-8917-2f9e4261dfef",
   "metadata": {},
   "outputs": [],
   "source": [
    "x = sample(nrow(data), nrow(data) )   # Shuffle the row indexes\n",
    "splits = split(x, as.integer((x - 1)/(nrow(data)*0.2)) )   # divide the row indexes up into 5 mostly equal sized pieces\n",
    "shuffles = list()\n",
    "\n",
    "for (i in 1:5) {\n",
    "    shuffles[[i]] = sort(x[splits[[i]]])\n",
    "}"
   ]
  },
  {
   "cell_type": "code",
   "execution_count": 8,
   "id": "036b86ca-e1c3-4a96-a7e1-106134e15a87",
   "metadata": {},
   "outputs": [],
   "source": [
    "test = list()\n",
    "train = list()\n",
    "\n",
    "for (i in 1:5) {\n",
    "    test[[i]] = data[shuffles[[i]],]\n",
    "    train[[i]] = data[-shuffles[[i]], ]\n",
    "}"
   ]
  },
  {
   "cell_type": "code",
   "execution_count": 9,
   "id": "d5b54049-6d13-473f-ba3e-676a59cdfd69",
   "metadata": {},
   "outputs": [
    {
     "data": {
      "text/plain": [
       "n= 273 \n",
       "\n",
       "node), split, n, loss, yval, (yprob)\n",
       "      * denotes terminal node\n",
       "\n",
       " 1) root 273 148 Adelie Penguin (Pygoscelis adeliae) (0.457875458 0.201465201 0.340659341)  \n",
       "   2) Flipper.Length..mm.< 206.5 175  52 Adelie Penguin (Pygoscelis adeliae) (0.702857143 0.291428571 0.005714286)  \n",
       "     4) Flipper.Length..mm.< 192.5 96  15 Adelie Penguin (Pygoscelis adeliae) (0.843750000 0.156250000 0.000000000) *\n",
       "     5) Flipper.Length..mm.>=192.5 79  37 Adelie Penguin (Pygoscelis adeliae) (0.531645570 0.455696203 0.012658228)  \n",
       "      10) Flipper.Length..mm.< 200.5 63  25 Adelie Penguin (Pygoscelis adeliae) (0.603174603 0.396825397 0.000000000) *\n",
       "      11) Flipper.Length..mm.>=200.5 16   5 Chinstrap penguin (Pygoscelis antarctica) (0.250000000 0.687500000 0.062500000) *\n",
       "   3) Flipper.Length..mm.>=206.5 98   6 Gentoo penguin (Pygoscelis papua) (0.020408163 0.040816327 0.938775510)  \n",
       "     6) Culmen.Depth..mm.>=17.2 8   4 Chinstrap penguin (Pygoscelis antarctica) (0.250000000 0.500000000 0.250000000) *\n",
       "     7) Culmen.Depth..mm.< 17.2 90   0 Gentoo penguin (Pygoscelis papua) (0.000000000 0.000000000 1.000000000) *"
      ]
     },
     "metadata": {},
     "output_type": "display_data"
    }
   ],
   "source": [
    "md <- rpart(Species ~ Flipper.Length..mm. + Culmen.Depth..mm., data=train[[1]] )\n",
    "md"
   ]
  },
  {
   "cell_type": "code",
   "execution_count": 10,
   "id": "e25e8489-8c3c-4d6d-802b-6a344a214057",
   "metadata": {},
   "outputs": [
    {
     "data": {
      "text/html": [
       "<strong>png:</strong> 2"
      ],
      "text/latex": [
       "\\textbf{png:} 2"
      ],
      "text/markdown": [
       "**png:** 2"
      ],
      "text/plain": [
       "png \n",
       "  2 "
      ]
     },
     "metadata": {},
     "output_type": "display_data"
    }
   ],
   "source": [
    "pdf(\"plot_tree.pdf\") \n",
    "rpart.plot(md, box.palette=\"RdBu\", shadow.col=\"gray\", nn=TRUE )\n",
    "dev.off() "
   ]
  },
  {
   "cell_type": "markdown",
   "id": "c7329803-82cf-428a-8031-5083835e59e9",
   "metadata": {},
   "source": [
    "## Testing accuracy"
   ]
  },
  {
   "cell_type": "code",
   "execution_count": 12,
   "id": "0c4ae348-7ce2-4f67-b0a6-1b808f340000",
   "metadata": {},
   "outputs": [
    {
     "data": {
      "text/html": [
       "\n",
       "<table width=\"100%\" summary=\"page for rpart.predict {rpart.plot}\"><tr><td>rpart.predict {rpart.plot}</td><td style=\"text-align: right;\">R Documentation</td></tr></table>\n",
       "\n",
       "<h2>Extended version of predict.rpart</h2>\n",
       "\n",
       "<h3>Description</h3>\n",
       "\n",
       "<p>Identical to <code>predict.rpart</code> but\n",
       "optionally show the node numbers and rules for the predicted values.\n",
       "</p>\n",
       "\n",
       "\n",
       "<h3>Usage</h3>\n",
       "\n",
       "<pre>\n",
       "rpart.predict(object, newdata,\n",
       "              type = c(\"vector\", \"prob\", \"class\", \"matrix\"),\n",
       "              na.action = na.pass,\n",
       "              nn=FALSE, rules=FALSE, ...)\n",
       "</pre>\n",
       "\n",
       "\n",
       "<h3>Arguments</h3>\n",
       "\n",
       "<table summary=\"R argblock\">\n",
       "<tr valign=\"top\"><td><code>object, newdata, type, na.action</code></td>\n",
       "<td>\n",
       "\n",
       "<p>Identical to the same arguments for <code>predict.rpart</code>.<br />\n",
       "If both <code>nn</code> and <code>rules</code> are <code>FALSE</code>,\n",
       "the returned value is identical to <code>predict.rpart</code>.\n",
       "</p>\n",
       "</td></tr>\n",
       "<tr valign=\"top\"><td><code>nn</code></td>\n",
       "<td>\n",
       "\n",
       "<p>If <code>TRUE</code>, return a <code>data.frame</code>\n",
       "with the predictions as usual\n",
       "but with an extra column showing the leaf node number for each prediction.\n",
       "</p>\n",
       "</td></tr>\n",
       "<tr valign=\"top\"><td><code>rules</code></td>\n",
       "<td>\n",
       "\n",
       "<p>If <code>TRUE</code>, return a <code>data.frame</code>\n",
       "with the predictions as usual\n",
       "but with an extra column showing the rpart rule (as a string) for each prediction.<br />\n",
       "It may be helpful to use <code>options(width=1000)</code>\n",
       "before printing this <code>data.frame</code>.\n",
       "</p>\n",
       "</td></tr>\n",
       "<tr valign=\"top\"><td><code>...</code></td>\n",
       "<td>\n",
       "\n",
       "<p>Passed on to <code>rpart.rules</code>,\n",
       "for example <code>clip.facs=TRUE</code>.\n",
       "</p>\n",
       "</td></tr>\n",
       "</table>\n",
       "\n",
       "\n",
       "<h3>Value</h3>\n",
       "\n",
       "<p>Same as <code>predict.rpart</code>,\n",
       "but with additional information if <code>nn=TRUE</code> and/or <code>rules=TRUE</code>.\n",
       "</p>\n",
       "\n",
       "\n",
       "<h3>See Also</h3>\n",
       "\n",
       "<p><code>predict.rpart</code><br />\n",
       "<code>rpart.rules</code>\n",
       "</p>\n",
       "\n",
       "\n",
       "<h3>Examples</h3>\n",
       "\n",
       "<pre>\n",
       "data(ptitanic)\n",
       "model &lt;- rpart(survived ~ ., data = ptitanic, cp = .02)\n",
       "head(rpart.predict(model, rules=TRUE))\n",
       "</pre>\n",
       "\n",
       "<hr /><div style=\"text-align: center;\">[Package <em>rpart.plot</em> version 3.1.0 ]</div>"
      ],
      "text/latex": [
       "\\inputencoding{utf8}\n",
       "\\HeaderA{rpart.predict}{Extended version of predict.rpart}{rpart.predict}\n",
       "%\n",
       "\\begin{Description}\\relax\n",
       "Identical to \\code{\\LinkA{predict.rpart}{predict.rpart}} but\n",
       "optionally show the node numbers and rules for the predicted values.\n",
       "\\end{Description}\n",
       "%\n",
       "\\begin{Usage}\n",
       "\\begin{verbatim}\n",
       "rpart.predict(object, newdata,\n",
       "              type = c(\"vector\", \"prob\", \"class\", \"matrix\"),\n",
       "              na.action = na.pass,\n",
       "              nn=FALSE, rules=FALSE, ...)\n",
       "\\end{verbatim}\n",
       "\\end{Usage}\n",
       "%\n",
       "\\begin{Arguments}\n",
       "\\begin{ldescription}\n",
       "\\item[\\code{object, newdata, type, na.action}] \n",
       "Identical to the same arguments for \\code{\\LinkA{predict.rpart}{predict.rpart}}.\\\\{}\n",
       "If both \\code{nn} and \\code{rules} are \\code{FALSE},\n",
       "the returned value is identical to \\code{\\LinkA{predict.rpart}{predict.rpart}}.\n",
       "\n",
       "\\item[\\code{nn}] \n",
       "If \\code{TRUE}, return a \\code{data.frame}\n",
       "with the predictions as usual\n",
       "but with an extra column showing the leaf node number for each prediction.\n",
       "\n",
       "\\item[\\code{rules}] \n",
       "If \\code{TRUE}, return a \\code{data.frame}\n",
       "with the predictions as usual\n",
       "but with an extra column showing the rpart rule (as a string) for each prediction.\\\\{}\n",
       "It may be helpful to use \\code{options(width=1000)}\n",
       "before printing this \\code{data.frame}.\n",
       "\n",
       "\\item[\\code{...}] \n",
       "Passed on to \\code{\\LinkA{rpart.rules}{rpart.rules}},\n",
       "for example \\code{clip.facs=TRUE}.\n",
       "\n",
       "\\end{ldescription}\n",
       "\\end{Arguments}\n",
       "%\n",
       "\\begin{Value}\n",
       "Same as \\code{\\LinkA{predict.rpart}{predict.rpart}},\n",
       "but with additional information if \\code{nn=TRUE} and/or \\code{rules=TRUE}.\n",
       "\\end{Value}\n",
       "%\n",
       "\\begin{SeeAlso}\\relax\n",
       "\\code{\\LinkA{predict.rpart}{predict.rpart}}\\\\{}\n",
       "\\code{\\LinkA{rpart.rules}{rpart.rules}}\n",
       "\\end{SeeAlso}\n",
       "%\n",
       "\\begin{Examples}\n",
       "\\begin{ExampleCode}\n",
       "data(ptitanic)\n",
       "model <- rpart(survived ~ ., data = ptitanic, cp = .02)\n",
       "head(rpart.predict(model, rules=TRUE))\n",
       "\\end{ExampleCode}\n",
       "\\end{Examples}"
      ],
      "text/plain": [
       "rpart.predict            package:rpart.plot            R Documentation\n",
       "\n",
       "_\bE_\bx_\bt_\be_\bn_\bd_\be_\bd _\bv_\be_\br_\bs_\bi_\bo_\bn _\bo_\bf _\bp_\br_\be_\bd_\bi_\bc_\bt._\br_\bp_\ba_\br_\bt\n",
       "\n",
       "_\bD_\be_\bs_\bc_\br_\bi_\bp_\bt_\bi_\bo_\bn:\n",
       "\n",
       "     Identical to ‘predict.rpart’ but optionally show the node numbers\n",
       "     and rules for the predicted values.\n",
       "\n",
       "_\bU_\bs_\ba_\bg_\be:\n",
       "\n",
       "     rpart.predict(object, newdata,\n",
       "                   type = c(\"vector\", \"prob\", \"class\", \"matrix\"),\n",
       "                   na.action = na.pass,\n",
       "                   nn=FALSE, rules=FALSE, ...)\n",
       "     \n",
       "_\bA_\br_\bg_\bu_\bm_\be_\bn_\bt_\bs:\n",
       "\n",
       "object, newdata, type, na.action: Identical to the same arguments for\n",
       "          ‘predict.rpart’.\n",
       "          If both ‘nn’ and ‘rules’ are ‘FALSE’, the returned value is\n",
       "          identical to ‘predict.rpart’.\n",
       "\n",
       "      nn: If ‘TRUE’, return a ‘data.frame’ with the predictions as\n",
       "          usual but with an extra column showing the leaf node number\n",
       "          for each prediction.\n",
       "\n",
       "   rules: If ‘TRUE’, return a ‘data.frame’ with the predictions as\n",
       "          usual but with an extra column showing the rpart rule (as a\n",
       "          string) for each prediction.\n",
       "          It may be helpful to use ‘options(width=1000)’ before\n",
       "          printing this ‘data.frame’.\n",
       "\n",
       "     ...: Passed on to ‘rpart.rules’, for example ‘clip.facs=TRUE’.\n",
       "\n",
       "_\bV_\ba_\bl_\bu_\be:\n",
       "\n",
       "     Same as ‘predict.rpart’, but with additional information if\n",
       "     ‘nn=TRUE’ and/or ‘rules=TRUE’.\n",
       "\n",
       "_\bS_\be_\be _\bA_\bl_\bs_\bo:\n",
       "\n",
       "     ‘predict.rpart’\n",
       "     ‘rpart.rules’\n",
       "\n",
       "_\bE_\bx_\ba_\bm_\bp_\bl_\be_\bs:\n",
       "\n",
       "     data(ptitanic)\n",
       "     model <- rpart(survived ~ ., data = ptitanic, cp = .02)\n",
       "     head(rpart.predict(model, rules=TRUE))\n",
       "     "
      ]
     },
     "metadata": {},
     "output_type": "display_data"
    }
   ],
   "source": [
    "help(rpart.predict)"
   ]
  },
  {
   "cell_type": "markdown",
   "id": "e0a8cc55-bd1e-4008-8178-8222ba16e490",
   "metadata": {},
   "source": [
    "## Plotting the Decision Boundaries\n",
    "\n",
    "Let's use the bit of code we introduced in Week 1 to plot the prediction over the phase space to illustrate the decision boundaries."
   ]
  },
  {
   "cell_type": "code",
   "execution_count": null,
   "id": "58d18f51-ba54-4734-8bbc-423e5ffa18d5",
   "metadata": {},
   "outputs": [],
   "source": []
  },
  {
   "cell_type": "markdown",
   "id": "dab49bf9-c4df-4bac-8fc0-e3612c4aac03",
   "metadata": {},
   "source": [
    "## Cross Validation\n",
    "\n",
    "Then implement the training and testing over the five partitions of the data to obtain our crossvalidated error estimates.\n",
    "\n"
   ]
  },
  {
   "cell_type": "code",
   "execution_count": null,
   "id": "9607d5ba-10f8-482a-9fa2-caa22cf4b05d",
   "metadata": {},
   "outputs": [],
   "source": []
  },
  {
   "cell_type": "markdown",
   "id": "e7ade650-c899-47b2-b901-bb9b82ccd6fa",
   "metadata": {},
   "source": [
    "## Using more variables\n",
    "\n",
    "Decision Trees have to huge advantages over other machine models we will learn about:  They are the simplest possible model from a mathematical point of view (there are actually some subtleties in how they are trained and in the parameters we could use on them) which means they are easy to explain to lay people.\n",
    "\n",
    "There other advantage is that they are easy to visually represent even in cases with multiple variables."
   ]
  },
  {
   "cell_type": "code",
   "execution_count": null,
   "id": "9b54a3b9-976f-4c95-b740-7e8e398162c1",
   "metadata": {},
   "outputs": [],
   "source": []
  }
 ],
 "metadata": {
  "kernelspec": {
   "display_name": "R",
   "language": "R",
   "name": "ir"
  },
  "language_info": {
   "codemirror_mode": "r",
   "file_extension": ".r",
   "mimetype": "text/x-r-source",
   "name": "R",
   "pygments_lexer": "r",
   "version": "4.0.4"
  }
 },
 "nbformat": 4,
 "nbformat_minor": 5
}
