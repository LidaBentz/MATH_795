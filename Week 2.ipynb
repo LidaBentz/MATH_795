{
 "cells": [
  {
   "cell_type": "markdown",
   "id": "488b27c5-8817-42bd-a075-3c37be00a769",
   "metadata": {},
   "source": [
    "# Resampling\n",
    "\n",
    "The next idea I would like to demonstrate is resampling. This is a method of using a dataset to simmulate the random sampling process on the population in order to obtain estimates for a statistic and its possible varriation. You will see that it is a process that is designed to perform well with larger samples, though truthfully it yields valid results (though with caveats) in any case. It cannot however fix a sampling process that is flawed.\n",
    "\n",
    "---\n",
    "\n",
    "## Bootstrapping\n",
    "\n",
    "Is the specific case of rebuilding a sample of exactly the same size as the original through resampling with replacement.\n",
    "\n",
    "## Procedure\n",
    "\n",
    "The procedure is to build a new sample by sampling from the dataset with replacement. One then computes the statistic of interest from the new sample and records the value. This process is then repeated multiple times. The result range of computed values forms an analogue of the confidence interval, and one can then reproduce hypothesis tests as well. \n",
    "\n",
    "## Simulating Data\n",
    "\n",
    "A Big issue with educational (and other types of data) is that it is often protected under stringent protocols. A method developed by the Health Insurance industry is effective in creating a data set that merely simmulates the original dataset and in particular does not include the record of any indvidual and so can be used in ways that the original data could not be. One can do this by resampling with replacement from the original data forcing it to fit the parameters of a model to preserve what you think would be interesting features (covariances for instance). \n",
    "\n",
    "It is primarily a tool for when the code for a study is in development allowing one to study the analysis process and tools without having to be as careful with the protected data, with the idea that after things are developed we would then run the code for real on the protected data to obtain the final parameters and models.\n",
    "\n"
   ]
  },
  {
   "cell_type": "markdown",
   "id": "0f9e56d8-731b-4388-9375-d726e06f017e",
   "metadata": {},
   "source": [
    "ggplot2"
   ]
  },
  {
   "cell_type": "code",
   "execution_count": 2,
   "id": "4418c98a-f674-4d3d-b6d7-9b7f42a0f5fb",
   "metadata": {},
   "outputs": [
    {
     "data": {
      "text/html": [
       "123"
      ],
      "text/latex": [
       "123"
      ],
      "text/markdown": [
       "123"
      ],
      "text/plain": [
       "[1] 123"
      ]
     },
     "metadata": {},
     "output_type": "display_data"
    }
   ],
   "source": [
    "penguins = read.csv(\"Datasets/penguins_lter.csv\")\n",
    "gentoo = penguins[penguins[,3]=='Gentoo penguin (Pygoscelis papua)',]\n",
    "gentoo_flipper = na.omit(gentoo[,12])\n",
    "# Note I had to add an na.omit\n",
    "\n",
    "length(gentoo_flipper)"
   ]
  },
  {
   "cell_type": "code",
   "execution_count": 12,
   "id": "ce007fa0-931a-4d72-ae0e-cf0bea7bf75c",
   "metadata": {},
   "outputs": [],
   "source": [
    "# Let's bootstrap this dataset a bunch of times and compute the mean each time:\n",
    "\n",
    "data = c()\n",
    "for (i in 1:1000) { \n",
    "  temp = sample(gentoo_flipper, 123, replace = TRUE)\n",
    "  data = c(data, min(temp))\n",
    "}"
   ]
  },
  {
   "cell_type": "code",
   "execution_count": 13,
   "id": "bf9524d5-1406-46b9-9661-5dd5b74dd10b",
   "metadata": {},
   "outputs": [
    {
     "data": {
      "image/png": "[encoded data removed]",
      "text/plain": [
       "Plot with title “Histogram of data”"
      ]
     },
     "metadata": {
      "image/png": {
       "height": 420,
       "width": 420
      }
     },
     "output_type": "display_data"
    }
   ],
   "source": [
    "hist(data)"
   ]
  },
  {
   "cell_type": "code",
   "execution_count": 11,
   "id": "11abe7bb-e7ca-4a8a-968a-b53a56a86cad",
   "metadata": {},
   "outputs": [
    {
     "data": {
      "image/png": "[encoded data removed]",
      "text/plain": [
       "plot without title"
      ]
     },
     "metadata": {
      "image/png": {
       "height": 420,
       "width": 420
      }
     },
     "output_type": "display_data"
    }
   ],
   "source": [
    "boxplot(data)"
   ]
  },
  {
   "cell_type": "markdown",
   "id": "0475d4cc-eff5-4357-a480-9556089245bd",
   "metadata": {},
   "source": [
    "# The Datascience Modeling Process\n",
    "\n",
    "Let's return to the classification of penguins problem. A problem confronting us is to choose a model that gives the *best* prediction of the species of penguins from the inputs that we can manage. More than that, what we want to understand about the model we decide on is what we expect its error to be. \n",
    "\n",
    "Note the danger:  As we increase the complexity of our model we obtain a result which adapts more to the training data. However the training data began as a random sample from a population - and so it contains irreducible errors caused by factors we do not (and in most cases cannot hope to) know.  If our model moves too closely to the training data, it may be responding to these errors rather than actual structure in the population - and we would expect this to then lead to a higher error rate when the model is applied to data it has never seen: the testing set or even worse, new observations. \n",
    "\n",
    "This is called **Overfitting**. \n",
    "\n",
    "Accordingly, much of our effort is going to go into overfitting. We will control for overfitting by repeatedly in the exploration phase of our analysis applying the models we have develop to new testing data that the model has not yet seen. In real applications, with *plenty* of data this process might be nested in multiple layers with a final testing set that is reserved until the final model has been selected and trained. \n",
    "\n",
    "The process of training and testing our model with multiple slices of our dataset is called **Crossvalidation**. And the goal is to find a model that captures true features in the data, avoids the overfitting that arises from responding to irreducible errors in the dataset, and to have a good estimate on the error and its varriation we expect from the final model. \n",
    "\n",
    "## Ethics\n",
    "\n",
    "Note that how much effort one actually puts into this crossvalidation process would be determined by the ethical consideration of how likely errors seem to be, and on what the consequences for errors are. There is a big difference between us playing around with a penguin dataset, and us working for a university on student success data, financial data, or health data. \n",
    "\n",
    "## Cross Validation\n",
    "\n",
    "There are lots of ways to do this. However a common one is to divide the data set randomly into 5 equal size pieces. We will then train our model on four of these pieces using the fifth one as a testing set. We can then repeate that with the same model and parameters five times obtaining an error estimate each time.\n",
    "\n",
    "This will give us five estimates on the error produced by training the model with these parameters on a random training set when the model is applied to data it has not seen. Each individual data point is used four times as a training value and once as a testing value. "
   ]
  },
  {
   "cell_type": "code",
   "execution_count": 14,
   "id": "1b840ca4-b970-40ef-ba1d-ed0ca0ba2605",
   "metadata": {},
   "outputs": [
    {
     "data": {
      "text/html": [
       "<table class=\"dataframe\">\n",
       "<caption>A data.frame: 6 × 3</caption>\n",
       "<thead>\n",
       "\t<tr><th></th><th scope=col>Species</th><th scope=col>Flipper.Length..mm.</th><th scope=col>Culmen.Depth..mm.</th></tr>\n",
       "\t<tr><th></th><th scope=col>&lt;fct&gt;</th><th scope=col>&lt;int&gt;</th><th scope=col>&lt;dbl&gt;</th></tr>\n",
       "</thead>\n",
       "<tbody>\n",
       "\t<tr><th scope=row>1</th><td>Adelie Penguin (Pygoscelis adeliae)</td><td>181</td><td>18.7</td></tr>\n",
       "\t<tr><th scope=row>2</th><td>Adelie Penguin (Pygoscelis adeliae)</td><td>186</td><td>17.4</td></tr>\n",
       "\t<tr><th scope=row>3</th><td>Adelie Penguin (Pygoscelis adeliae)</td><td>195</td><td>18.0</td></tr>\n",
       "\t<tr><th scope=row>5</th><td>Adelie Penguin (Pygoscelis adeliae)</td><td>193</td><td>19.3</td></tr>\n",
       "\t<tr><th scope=row>6</th><td>Adelie Penguin (Pygoscelis adeliae)</td><td>190</td><td>20.6</td></tr>\n",
       "\t<tr><th scope=row>7</th><td>Adelie Penguin (Pygoscelis adeliae)</td><td>181</td><td>17.8</td></tr>\n",
       "</tbody>\n",
       "</table>\n"
      ],
      "text/latex": [
       "A data.frame: 6 × 3\n",
       "\\begin{tabular}{r|lll}\n",
       "  & Species & Flipper.Length..mm. & Culmen.Depth..mm.\\\\\n",
       "  & <fct> & <int> & <dbl>\\\\\n",
       "\\hline\n",
       "\t1 & Adelie Penguin (Pygoscelis adeliae) & 181 & 18.7\\\\\n",
       "\t2 & Adelie Penguin (Pygoscelis adeliae) & 186 & 17.4\\\\\n",
       "\t3 & Adelie Penguin (Pygoscelis adeliae) & 195 & 18.0\\\\\n",
       "\t5 & Adelie Penguin (Pygoscelis adeliae) & 193 & 19.3\\\\\n",
       "\t6 & Adelie Penguin (Pygoscelis adeliae) & 190 & 20.6\\\\\n",
       "\t7 & Adelie Penguin (Pygoscelis adeliae) & 181 & 17.8\\\\\n",
       "\\end{tabular}\n"
      ],
      "text/markdown": [
       "\n",
       "A data.frame: 6 × 3\n",
       "\n",
       "| <!--/--> | Species &lt;fct&gt; | Flipper.Length..mm. &lt;int&gt; | Culmen.Depth..mm. &lt;dbl&gt; |\n",
       "|---|---|---|---|\n",
       "| 1 | Adelie Penguin (Pygoscelis adeliae) | 181 | 18.7 |\n",
       "| 2 | Adelie Penguin (Pygoscelis adeliae) | 186 | 17.4 |\n",
       "| 3 | Adelie Penguin (Pygoscelis adeliae) | 195 | 18.0 |\n",
       "| 5 | Adelie Penguin (Pygoscelis adeliae) | 193 | 19.3 |\n",
       "| 6 | Adelie Penguin (Pygoscelis adeliae) | 190 | 20.6 |\n",
       "| 7 | Adelie Penguin (Pygoscelis adeliae) | 181 | 17.8 |\n",
       "\n"
      ],
      "text/plain": [
       "  Species                             Flipper.Length..mm. Culmen.Depth..mm.\n",
       "1 Adelie Penguin (Pygoscelis adeliae) 181                 18.7             \n",
       "2 Adelie Penguin (Pygoscelis adeliae) 186                 17.4             \n",
       "3 Adelie Penguin (Pygoscelis adeliae) 195                 18.0             \n",
       "5 Adelie Penguin (Pygoscelis adeliae) 193                 19.3             \n",
       "6 Adelie Penguin (Pygoscelis adeliae) 190                 20.6             \n",
       "7 Adelie Penguin (Pygoscelis adeliae) 181                 17.8             "
      ]
     },
     "metadata": {},
     "output_type": "display_data"
    }
   ],
   "source": [
    "# we need to remove the rows with missing data; and also pair the data down to just the values we will use\n",
    "data = penguins[,c(3, 12,11)]\n",
    "data = na.omit(data)\n",
    "data$Species = as.factor(data$Species)   # we are going to use decision trees below, and for them the output column needs to be a factor and the inputs numerical or factors.\n",
    "head(data)"
   ]
  },
  {
   "cell_type": "code",
   "execution_count": 15,
   "id": "d6018ca2-b350-43da-9035-7b0d1e079538",
   "metadata": {},
   "outputs": [],
   "source": [
    "x = sample(nrow(data), nrow(data) )   # Shuffle the row indexes\n",
    "splits = split(x, as.integer((x - 1)/(nrow(data)*0.2)) )   # divide the row indexes up into 5 mostly equal sized pieces\n",
    "shuffles = list()\n",
    "\n",
    "for (i in 1:5) {\n",
    "    shuffles[[i]] = sort(x[splits[[i]]])\n",
    "}"
   ]
  },
  {
   "cell_type": "code",
   "execution_count": 17,
   "id": "6bb6faf6-4d8c-488a-a8d3-ffbd72893bbe",
   "metadata": {},
   "outputs": [
    {
     "data": {
      "text/html": [
       "<style>\n",
       ".list-inline {list-style: none; margin:0; padding: 0}\n",
       ".list-inline>li {display: inline-block}\n",
       ".list-inline>li:not(:last-child)::after {content: \"\\00b7\"; padding: 0 .5ex}\n",
       "</style>\n",
       "<ol class=list-inline><li>7</li><li>9</li><li>14</li><li>19</li><li>22</li><li>23</li><li>28</li><li>30</li><li>36</li><li>38</li><li>40</li><li>41</li><li>42</li><li>69</li><li>70</li><li>72</li><li>73</li><li>84</li><li>88</li><li>92</li><li>98</li><li>101</li><li>105</li><li>116</li><li>119</li><li>121</li><li>127</li><li>132</li><li>134</li><li>149</li><li>150</li><li>156</li><li>162</li><li>163</li><li>165</li><li>175</li><li>177</li><li>183</li><li>198</li><li>200</li><li>206</li><li>211</li><li>212</li><li>214</li><li>219</li><li>221</li><li>227</li><li>232</li><li>237</li><li>240</li><li>243</li><li>252</li><li>259</li><li>261</li><li>272</li><li>274</li><li>278</li><li>279</li><li>287</li><li>301</li><li>302</li><li>304</li><li>307</li><li>308</li><li>314</li><li>326</li><li>327</li><li>332</li><li>338</li></ol>\n"
      ],
      "text/latex": [
       "\\begin{enumerate*}\n",
       "\\item 7\n",
       "\\item 9\n",
       "\\item 14\n",
       "\\item 19\n",
       "\\item 22\n",
       "\\item 23\n",
       "\\item 28\n",
       "\\item 30\n",
       "\\item 36\n",
       "\\item 38\n",
       "\\item 40\n",
       "\\item 41\n",
       "\\item 42\n",
       "\\item 69\n",
       "\\item 70\n",
       "\\item 72\n",
       "\\item 73\n",
       "\\item 84\n",
       "\\item 88\n",
       "\\item 92\n",
       "\\item 98\n",
       "\\item 101\n",
       "\\item 105\n",
       "\\item 116\n",
       "\\item 119\n",
       "\\item 121\n",
       "\\item 127\n",
       "\\item 132\n",
       "\\item 134\n",
       "\\item 149\n",
       "\\item 150\n",
       "\\item 156\n",
       "\\item 162\n",
       "\\item 163\n",
       "\\item 165\n",
       "\\item 175\n",
       "\\item 177\n",
       "\\item 183\n",
       "\\item 198\n",
       "\\item 200\n",
       "\\item 206\n",
       "\\item 211\n",
       "\\item 212\n",
       "\\item 214\n",
       "\\item 219\n",
       "\\item 221\n",
       "\\item 227\n",
       "\\item 232\n",
       "\\item 237\n",
       "\\item 240\n",
       "\\item 243\n",
       "\\item 252\n",
       "\\item 259\n",
       "\\item 261\n",
       "\\item 272\n",
       "\\item 274\n",
       "\\item 278\n",
       "\\item 279\n",
       "\\item 287\n",
       "\\item 301\n",
       "\\item 302\n",
       "\\item 304\n",
       "\\item 307\n",
       "\\item 308\n",
       "\\item 314\n",
       "\\item 326\n",
       "\\item 327\n",
       "\\item 332\n",
       "\\item 338\n",
       "\\end{enumerate*}\n"
      ],
      "text/markdown": [
       "1. 7\n",
       "2. 9\n",
       "3. 14\n",
       "4. 19\n",
       "5. 22\n",
       "6. 23\n",
       "7. 28\n",
       "8. 30\n",
       "9. 36\n",
       "10. 38\n",
       "11. 40\n",
       "12. 41\n",
       "13. 42\n",
       "14. 69\n",
       "15. 70\n",
       "16. 72\n",
       "17. 73\n",
       "18. 84\n",
       "19. 88\n",
       "20. 92\n",
       "21. 98\n",
       "22. 101\n",
       "23. 105\n",
       "24. 116\n",
       "25. 119\n",
       "26. 121\n",
       "27. 127\n",
       "28. 132\n",
       "29. 134\n",
       "30. 149\n",
       "31. 150\n",
       "32. 156\n",
       "33. 162\n",
       "34. 163\n",
       "35. 165\n",
       "36. 175\n",
       "37. 177\n",
       "38. 183\n",
       "39. 198\n",
       "40. 200\n",
       "41. 206\n",
       "42. 211\n",
       "43. 212\n",
       "44. 214\n",
       "45. 219\n",
       "46. 221\n",
       "47. 227\n",
       "48. 232\n",
       "49. 237\n",
       "50. 240\n",
       "51. 243\n",
       "52. 252\n",
       "53. 259\n",
       "54. 261\n",
       "55. 272\n",
       "56. 274\n",
       "57. 278\n",
       "58. 279\n",
       "59. 287\n",
       "60. 301\n",
       "61. 302\n",
       "62. 304\n",
       "63. 307\n",
       "64. 308\n",
       "65. 314\n",
       "66. 326\n",
       "67. 327\n",
       "68. 332\n",
       "69. 338\n",
       "\n",
       "\n"
      ],
      "text/plain": [
       " [1]   7   9  14  19  22  23  28  30  36  38  40  41  42  69  70  72  73  84  88\n",
       "[20]  92  98 101 105 116 119 121 127 132 134 149 150 156 162 163 165 175 177 183\n",
       "[39] 198 200 206 211 212 214 219 221 227 232 237 240 243 252 259 261 272 274 278\n",
       "[58] 279 287 301 302 304 307 308 314 326 327 332 338"
      ]
     },
     "metadata": {},
     "output_type": "display_data"
    }
   ],
   "source": [
    "shuffles[[1]]"
   ]
  },
  {
   "cell_type": "code",
   "execution_count": 18,
   "id": "17c302f0-f6ba-43fb-be60-0c09eeab9fbd",
   "metadata": {},
   "outputs": [],
   "source": [
    "test = list()\n",
    "train = list()\n",
    "\n",
    "for (i in 1:5) {\n",
    "    test[[i]] = data[shuffles[[i]],]\n",
    "    train[[i]] = data[-shuffles[[i]], ]\n",
    "}"
   ]
  },
  {
   "cell_type": "markdown",
   "id": "ccc9558b-54df-4539-9437-2a8a16c261f0",
   "metadata": {},
   "source": [
    "## K Nearest Neighbors Again\n",
    "\n",
    "We can now test this with the k-nearest neighbors algorithm we met last week."
   ]
  },
  {
   "cell_type": "code",
   "execution_count": 19,
   "id": "5cf3debc-f2fa-4e9e-bc73-f8cc551fe45c",
   "metadata": {},
   "outputs": [],
   "source": [
    "library(class)"
   ]
  },
  {
   "cell_type": "code",
   "execution_count": 22,
   "id": "db49d239-3bc5-4185-b640-4ef5ca626e3c",
   "metadata": {},
   "outputs": [],
   "source": [
    "out = c()\n",
    "\n",
    "for (i in 1:5) { \n",
    "    pr = knn(train[[i]][,-1],test[[i]][,-1],cl=train[[i]][,1],k=5)\n",
    "    out = c(out, sum(test[[i]][,1]!=pr)/length(test[[i]][,1]))\n",
    "}\n"
   ]
  },
  {
   "cell_type": "code",
   "execution_count": 23,
   "id": "2abf0c6f-791c-4884-87aa-252c091dd931",
   "metadata": {},
   "outputs": [
    {
     "data": {
      "text/html": [
       "<style>\n",
       ".list-inline {list-style: none; margin:0; padding: 0}\n",
       ".list-inline>li {display: inline-block}\n",
       ".list-inline>li:not(:last-child)::after {content: \"\\00b7\"; padding: 0 .5ex}\n",
       "</style>\n",
       "<ol class=list-inline><li>0.231884057971014</li><li>0.220588235294118</li><li>0.173913043478261</li><li>0.205882352941176</li><li>0.191176470588235</li></ol>\n"
      ],
      "text/latex": [
       "\\begin{enumerate*}\n",
       "\\item 0.231884057971014\n",
       "\\item 0.220588235294118\n",
       "\\item 0.173913043478261\n",
       "\\item 0.205882352941176\n",
       "\\item 0.191176470588235\n",
       "\\end{enumerate*}\n"
      ],
      "text/markdown": [
       "1. 0.231884057971014\n",
       "2. 0.220588235294118\n",
       "3. 0.173913043478261\n",
       "4. 0.205882352941176\n",
       "5. 0.191176470588235\n",
       "\n",
       "\n"
      ],
      "text/plain": [
       "[1] 0.2318841 0.2205882 0.1739130 0.2058824 0.1911765"
      ]
     },
     "metadata": {},
     "output_type": "display_data"
    },
    {
     "data": {
      "text/html": [
       "0.204688832054561"
      ],
      "text/latex": [
       "0.204688832054561"
      ],
      "text/markdown": [
       "0.204688832054561"
      ],
      "text/plain": [
       "[1] 0.2046888"
      ]
     },
     "metadata": {},
     "output_type": "display_data"
    },
    {
     "data": {
      "text/html": [
       "0.0230408816184273"
      ],
      "text/latex": [
       "0.0230408816184273"
      ],
      "text/markdown": [
       "0.0230408816184273"
      ],
      "text/plain": [
       "[1] 0.02304088"
      ]
     },
     "metadata": {},
     "output_type": "display_data"
    }
   ],
   "source": [
    "out\n",
    "mean(out)\n",
    "sd(out)"
   ]
  },
  {
   "cell_type": "markdown",
   "id": "cb7ee1dc-03ea-488e-905b-e3770eab7838",
   "metadata": {},
   "source": [
    "## Decision Trees\n",
    "\n",
    "It's worth looking at some other models now as well. One of the simplest models we can build is called a decision tree. Decision trees are a list of rules to mkae our classification.\n",
    "\n",
    "They are even easier to explain than the KNN algorithm. And we see examples of them all around us:  For example the placement mechanism UNC uses for our courses is a decision tree: https://www.unco.edu/nhs/mathematical-sciences/placement/results.aspx\n",
    "\n",
    "which tries to classify students into their mathemaitcs courses."
   ]
  },
  {
   "cell_type": "code",
   "execution_count": 1,
   "id": "1a4435ef-d5f6-4dac-8b13-58dcad417055",
   "metadata": {},
   "outputs": [],
   "source": [
    "penguins = read.csv(\"Datasets/penguins_lter.csv\")"
   ]
  },
  {
   "cell_type": "code",
   "execution_count": 2,
   "id": "0172a942-557e-4a81-b41f-7815e0d8d348",
   "metadata": {},
   "outputs": [
    {
     "data": {
      "text/html": [
       "<table class=\"dataframe\">\n",
       "<caption>A data.frame: 6 × 3</caption>\n",
       "<thead>\n",
       "\t<tr><th></th><th scope=col>Species</th><th scope=col>Flipper.Length..mm.</th><th scope=col>Culmen.Depth..mm.</th></tr>\n",
       "\t<tr><th></th><th scope=col>&lt;fct&gt;</th><th scope=col>&lt;int&gt;</th><th scope=col>&lt;dbl&gt;</th></tr>\n",
       "</thead>\n",
       "<tbody>\n",
       "\t<tr><th scope=row>1</th><td>Adelie Penguin (Pygoscelis adeliae)</td><td>181</td><td>18.7</td></tr>\n",
       "\t<tr><th scope=row>2</th><td>Adelie Penguin (Pygoscelis adeliae)</td><td>186</td><td>17.4</td></tr>\n",
       "\t<tr><th scope=row>3</th><td>Adelie Penguin (Pygoscelis adeliae)</td><td>195</td><td>18.0</td></tr>\n",
       "\t<tr><th scope=row>5</th><td>Adelie Penguin (Pygoscelis adeliae)</td><td>193</td><td>19.3</td></tr>\n",
       "\t<tr><th scope=row>6</th><td>Adelie Penguin (Pygoscelis adeliae)</td><td>190</td><td>20.6</td></tr>\n",
       "\t<tr><th scope=row>7</th><td>Adelie Penguin (Pygoscelis adeliae)</td><td>181</td><td>17.8</td></tr>\n",
       "</tbody>\n",
       "</table>\n"
      ],
      "text/latex": [
       "A data.frame: 6 × 3\n",
       "\\begin{tabular}{r|lll}\n",
       "  & Species & Flipper.Length..mm. & Culmen.Depth..mm.\\\\\n",
       "  & <fct> & <int> & <dbl>\\\\\n",
       "\\hline\n",
       "\t1 & Adelie Penguin (Pygoscelis adeliae) & 181 & 18.7\\\\\n",
       "\t2 & Adelie Penguin (Pygoscelis adeliae) & 186 & 17.4\\\\\n",
       "\t3 & Adelie Penguin (Pygoscelis adeliae) & 195 & 18.0\\\\\n",
       "\t5 & Adelie Penguin (Pygoscelis adeliae) & 193 & 19.3\\\\\n",
       "\t6 & Adelie Penguin (Pygoscelis adeliae) & 190 & 20.6\\\\\n",
       "\t7 & Adelie Penguin (Pygoscelis adeliae) & 181 & 17.8\\\\\n",
       "\\end{tabular}\n"
      ],
      "text/markdown": [
       "\n",
       "A data.frame: 6 × 3\n",
       "\n",
       "| <!--/--> | Species &lt;fct&gt; | Flipper.Length..mm. &lt;int&gt; | Culmen.Depth..mm. &lt;dbl&gt; |\n",
       "|---|---|---|---|\n",
       "| 1 | Adelie Penguin (Pygoscelis adeliae) | 181 | 18.7 |\n",
       "| 2 | Adelie Penguin (Pygoscelis adeliae) | 186 | 17.4 |\n",
       "| 3 | Adelie Penguin (Pygoscelis adeliae) | 195 | 18.0 |\n",
       "| 5 | Adelie Penguin (Pygoscelis adeliae) | 193 | 19.3 |\n",
       "| 6 | Adelie Penguin (Pygoscelis adeliae) | 190 | 20.6 |\n",
       "| 7 | Adelie Penguin (Pygoscelis adeliae) | 181 | 17.8 |\n",
       "\n"
      ],
      "text/plain": [
       "  Species                             Flipper.Length..mm. Culmen.Depth..mm.\n",
       "1 Adelie Penguin (Pygoscelis adeliae) 181                 18.7             \n",
       "2 Adelie Penguin (Pygoscelis adeliae) 186                 17.4             \n",
       "3 Adelie Penguin (Pygoscelis adeliae) 195                 18.0             \n",
       "5 Adelie Penguin (Pygoscelis adeliae) 193                 19.3             \n",
       "6 Adelie Penguin (Pygoscelis adeliae) 190                 20.6             \n",
       "7 Adelie Penguin (Pygoscelis adeliae) 181                 17.8             "
      ]
     },
     "metadata": {},
     "output_type": "display_data"
    }
   ],
   "source": [
    "# we need to remove the rows with missing data; and also pair the data down to just the values we will use\n",
    "data = penguins[,c(3, 12,11)]\n",
    "data = na.omit(data)\n",
    "data$Species = as.factor(data$Species)   # we are going to use decision trees below, and for them the output column needs to be a factor and the inputs numerical or factors.\n",
    "head(data)"
   ]
  },
  {
   "cell_type": "code",
   "execution_count": 6,
   "id": "a02eb61f-eec2-409a-abae-53cd2dcd17c7",
   "metadata": {},
   "outputs": [],
   "source": [
    "library(tidyverse)\n",
    "library(tree)\n",
    "library(rpart)\n",
    "library(rpart.plot)"
   ]
  },
  {
   "cell_type": "code",
   "execution_count": 7,
   "id": "5e40ca8c-a0d8-44f3-9c4e-61072b902bc6",
   "metadata": {},
   "outputs": [
    {
     "data": {
      "text/plain": [
       "               _                           \n",
       "platform       x86_64-pc-linux-gnu         \n",
       "arch           x86_64                      \n",
       "os             linux-gnu                   \n",
       "system         x86_64, linux-gnu           \n",
       "status                                     \n",
       "major          4                           \n",
       "minor          0.4                         \n",
       "year           2021                        \n",
       "month          02                          \n",
       "day            15                          \n",
       "svn rev        80002                       \n",
       "language       R                           \n",
       "version.string R version 4.0.4 (2021-02-15)\n",
       "nickname       Lost Library Book           "
      ]
     },
     "metadata": {},
     "output_type": "display_data"
    }
   ],
   "source": [
    "version"
   ]
  },
  {
   "cell_type": "code",
   "execution_count": 8,
   "id": "a3f329a8-54d2-40f1-8917-2f9e4261dfef",
   "metadata": {},
   "outputs": [],
   "source": [
    "x = sample(nrow(data), nrow(data) )   # Shuffle the row indexes\n",
    "splits = split(x, as.integer((x - 1)/(nrow(data)*0.2)) )   # divide the row indexes up into 5 mostly equal sized pieces\n",
    "shuffles = list()\n",
    "\n",
    "for (i in 1:5) {\n",
    "    shuffles[[i]] = sort(x[splits[[i]]])\n",
    "}"
   ]
  },
  {
   "cell_type": "code",
   "execution_count": 9,
   "id": "036b86ca-e1c3-4a96-a7e1-106134e15a87",
   "metadata": {},
   "outputs": [],
   "source": [
    "test = list()\n",
    "train = list()\n",
    "\n",
    "for (i in 1:5) {\n",
    "    test[[i]] = data[shuffles[[i]],]\n",
    "    train[[i]] = data[-shuffles[[i]], ]\n",
    "}"
   ]
  },
  {
   "cell_type": "code",
   "execution_count": 10,
   "id": "d5b54049-6d13-473f-ba3e-676a59cdfd69",
   "metadata": {},
   "outputs": [
    {
     "data": {
      "text/plain": [
       "n= 273 \n",
       "\n",
       "node), split, n, loss, yval, (yprob)\n",
       "      * denotes terminal node\n",
       "\n",
       "1) root 273 152 Adelie Penguin (Pygoscelis adeliae) (0.443223443 0.190476190 0.366300366)  \n",
       "  2) Flipper.Length..mm.< 206.5 168  49 Adelie Penguin (Pygoscelis adeliae) (0.708333333 0.285714286 0.005952381)  \n",
       "    4) Flipper.Length..mm.< 196.5 131  25 Adelie Penguin (Pygoscelis adeliae) (0.809160305 0.190839695 0.000000000) *\n",
       "    5) Flipper.Length..mm.>=196.5 37  14 Chinstrap penguin (Pygoscelis antarctica) (0.351351351 0.621621622 0.027027027) *\n",
       "  3) Flipper.Length..mm.>=206.5 105   6 Gentoo penguin (Pygoscelis papua) (0.019047619 0.038095238 0.942857143)  \n",
       "    6) Culmen.Depth..mm.>=17.2 8   4 Chinstrap penguin (Pygoscelis antarctica) (0.250000000 0.500000000 0.250000000) *\n",
       "    7) Culmen.Depth..mm.< 17.2 97   0 Gentoo penguin (Pygoscelis papua) (0.000000000 0.000000000 1.000000000) *"
      ]
     },
     "metadata": {},
     "output_type": "display_data"
    }
   ],
   "source": [
    "md <- rpart(Species ~ Flipper.Length..mm. + Culmen.Depth..mm., data=train[[1]] )\n",
    "md"
   ]
  },
  {
   "cell_type": "code",
   "execution_count": 11,
   "id": "e25e8489-8c3c-4d6d-802b-6a344a214057",
   "metadata": {},
   "outputs": [
    {
     "data": {
      "text/html": [
       "<strong>png:</strong> 2"
      ],
      "text/latex": [
       "\\textbf{png:} 2"
      ],
      "text/markdown": [
       "**png:** 2"
      ],
      "text/plain": [
       "png \n",
       "  2 "
      ]
     },
     "metadata": {},
     "output_type": "display_data"
    }
   ],
   "source": [
    "pdf(\"plot_tree.pdf\") \n",
    "rpart.plot(md, box.palette=\"RdBu\", shadow.col=\"gray\", nn=TRUE )\n",
    "dev.off() "
   ]
  },
  {
   "cell_type": "markdown",
   "id": "c7329803-82cf-428a-8031-5083835e59e9",
   "metadata": {},
   "source": [
    "## Testing accuracy"
   ]
  },
  {
   "cell_type": "code",
   "execution_count": 16,
   "id": "dd66f45b-f33d-4ca9-8294-ad75bdb822d2",
   "metadata": {},
   "outputs": [
    {
     "data": {
      "text/html": [
       "0.27536231884058"
      ],
      "text/latex": [
       "0.27536231884058"
      ],
      "text/markdown": [
       "0.27536231884058"
      ],
      "text/plain": [
       "[1] 0.2753623"
      ]
     },
     "metadata": {},
     "output_type": "display_data"
    }
   ],
   "source": [
    "sum(predict(md, test[[1]], type=\"class\")!=test[[1]][,1]) / nrow(test[[1]])"
   ]
  },
  {
   "cell_type": "markdown",
   "id": "e0a8cc55-bd1e-4008-8178-8222ba16e490",
   "metadata": {},
   "source": [
    "## Plotting the Decision Boundaries\n",
    "\n",
    "Let's use the bit of code we introduced in Week 1 to plot the prediction over the phase space to illustrate the decision boundaries."
   ]
  },
  {
   "cell_type": "code",
   "execution_count": 28,
   "id": "58d18f51-ba54-4734-8bbc-423e5ffa18d5",
   "metadata": {},
   "outputs": [],
   "source": [
    "x = seq(from = 170, to = 240, by = 0.1)\n",
    "y = seq(from = 13, to = 22, by = 0.1)\n",
    "\n",
    "area = c()\n",
    "\n",
    "\n",
    "for (i in x) {\n",
    "    for (j in y) {\n",
    "        area = c(area, c(i, j))\n",
    "    }\n",
    "}\n",
    "\n",
    "area =data.frame( array(area, c(2, length(x)*length(y)) ) %>% t())\n",
    "names(area)[1] = 'Flipper.Length..mm.'\n",
    "names(area)[2] = 'Culmen.Depth..mm.'"
   ]
  },
  {
   "cell_type": "code",
   "execution_count": 29,
   "id": "b01390b1-5fb9-4ab4-a6cb-05510fbc3510",
   "metadata": {},
   "outputs": [],
   "source": [
    "species_pr <- predict(md, data.frame(area), type=\"class\")"
   ]
  },
  {
   "cell_type": "code",
   "execution_count": 33,
   "id": "801f51e9-deb7-46bb-9487-bce9010d26ca",
   "metadata": {},
   "outputs": [
    {
     "data": {
      "text/html": [
       "<table class=\"dataframe\">\n",
       "<caption>A data.frame: 63791 × 3</caption>\n",
       "<thead>\n",
       "\t<tr><th></th><th scope=col>Flipper.Length..mm.</th><th scope=col>Culmen.Depth..mm.</th><th scope=col>species</th></tr>\n",
       "\t<tr><th></th><th scope=col>&lt;dbl&gt;</th><th scope=col>&lt;dbl&gt;</th><th scope=col>&lt;fct&gt;</th></tr>\n",
       "</thead>\n",
       "<tbody>\n",
       "\t<tr><th scope=row>1</th><td>170</td><td>13.0</td><td>Adelie Penguin (Pygoscelis adeliae)</td></tr>\n",
       "\t<tr><th scope=row>2</th><td>170</td><td>13.1</td><td>Adelie Penguin (Pygoscelis adeliae)</td></tr>\n",
       "\t<tr><th scope=row>3</th><td>170</td><td>13.2</td><td>Adelie Penguin (Pygoscelis adeliae)</td></tr>\n",
       "\t<tr><th scope=row>4</th><td>170</td><td>13.3</td><td>Adelie Penguin (Pygoscelis adeliae)</td></tr>\n",
       "\t<tr><th scope=row>5</th><td>170</td><td>13.4</td><td>Adelie Penguin (Pygoscelis adeliae)</td></tr>\n",
       "\t<tr><th scope=row>6</th><td>170</td><td>13.5</td><td>Adelie Penguin (Pygoscelis adeliae)</td></tr>\n",
       "\t<tr><th scope=row>7</th><td>170</td><td>13.6</td><td>Adelie Penguin (Pygoscelis adeliae)</td></tr>\n",
       "\t<tr><th scope=row>8</th><td>170</td><td>13.7</td><td>Adelie Penguin (Pygoscelis adeliae)</td></tr>\n",
       "\t<tr><th scope=row>9</th><td>170</td><td>13.8</td><td>Adelie Penguin (Pygoscelis adeliae)</td></tr>\n",
       "\t<tr><th scope=row>10</th><td>170</td><td>13.9</td><td>Adelie Penguin (Pygoscelis adeliae)</td></tr>\n",
       "\t<tr><th scope=row>11</th><td>170</td><td>14.0</td><td>Adelie Penguin (Pygoscelis adeliae)</td></tr>\n",
       "\t<tr><th scope=row>12</th><td>170</td><td>14.1</td><td>Adelie Penguin (Pygoscelis adeliae)</td></tr>\n",
       "\t<tr><th scope=row>13</th><td>170</td><td>14.2</td><td>Adelie Penguin (Pygoscelis adeliae)</td></tr>\n",
       "\t<tr><th scope=row>14</th><td>170</td><td>14.3</td><td>Adelie Penguin (Pygoscelis adeliae)</td></tr>\n",
       "\t<tr><th scope=row>15</th><td>170</td><td>14.4</td><td>Adelie Penguin (Pygoscelis adeliae)</td></tr>\n",
       "\t<tr><th scope=row>16</th><td>170</td><td>14.5</td><td>Adelie Penguin (Pygoscelis adeliae)</td></tr>\n",
       "\t<tr><th scope=row>17</th><td>170</td><td>14.6</td><td>Adelie Penguin (Pygoscelis adeliae)</td></tr>\n",
       "\t<tr><th scope=row>18</th><td>170</td><td>14.7</td><td>Adelie Penguin (Pygoscelis adeliae)</td></tr>\n",
       "\t<tr><th scope=row>19</th><td>170</td><td>14.8</td><td>Adelie Penguin (Pygoscelis adeliae)</td></tr>\n",
       "\t<tr><th scope=row>20</th><td>170</td><td>14.9</td><td>Adelie Penguin (Pygoscelis adeliae)</td></tr>\n",
       "\t<tr><th scope=row>21</th><td>170</td><td>15.0</td><td>Adelie Penguin (Pygoscelis adeliae)</td></tr>\n",
       "\t<tr><th scope=row>22</th><td>170</td><td>15.1</td><td>Adelie Penguin (Pygoscelis adeliae)</td></tr>\n",
       "\t<tr><th scope=row>23</th><td>170</td><td>15.2</td><td>Adelie Penguin (Pygoscelis adeliae)</td></tr>\n",
       "\t<tr><th scope=row>24</th><td>170</td><td>15.3</td><td>Adelie Penguin (Pygoscelis adeliae)</td></tr>\n",
       "\t<tr><th scope=row>25</th><td>170</td><td>15.4</td><td>Adelie Penguin (Pygoscelis adeliae)</td></tr>\n",
       "\t<tr><th scope=row>26</th><td>170</td><td>15.5</td><td>Adelie Penguin (Pygoscelis adeliae)</td></tr>\n",
       "\t<tr><th scope=row>27</th><td>170</td><td>15.6</td><td>Adelie Penguin (Pygoscelis adeliae)</td></tr>\n",
       "\t<tr><th scope=row>28</th><td>170</td><td>15.7</td><td>Adelie Penguin (Pygoscelis adeliae)</td></tr>\n",
       "\t<tr><th scope=row>29</th><td>170</td><td>15.8</td><td>Adelie Penguin (Pygoscelis adeliae)</td></tr>\n",
       "\t<tr><th scope=row>30</th><td>170</td><td>15.9</td><td>Adelie Penguin (Pygoscelis adeliae)</td></tr>\n",
       "\t<tr><th scope=row>⋮</th><td>⋮</td><td>⋮</td><td>⋮</td></tr>\n",
       "\t<tr><th scope=row>63762</th><td>240</td><td>19.1</td><td>Chinstrap penguin (Pygoscelis antarctica)</td></tr>\n",
       "\t<tr><th scope=row>63763</th><td>240</td><td>19.2</td><td>Chinstrap penguin (Pygoscelis antarctica)</td></tr>\n",
       "\t<tr><th scope=row>63764</th><td>240</td><td>19.3</td><td>Chinstrap penguin (Pygoscelis antarctica)</td></tr>\n",
       "\t<tr><th scope=row>63765</th><td>240</td><td>19.4</td><td>Chinstrap penguin (Pygoscelis antarctica)</td></tr>\n",
       "\t<tr><th scope=row>63766</th><td>240</td><td>19.5</td><td>Chinstrap penguin (Pygoscelis antarctica)</td></tr>\n",
       "\t<tr><th scope=row>63767</th><td>240</td><td>19.6</td><td>Chinstrap penguin (Pygoscelis antarctica)</td></tr>\n",
       "\t<tr><th scope=row>63768</th><td>240</td><td>19.7</td><td>Chinstrap penguin (Pygoscelis antarctica)</td></tr>\n",
       "\t<tr><th scope=row>63769</th><td>240</td><td>19.8</td><td>Chinstrap penguin (Pygoscelis antarctica)</td></tr>\n",
       "\t<tr><th scope=row>63770</th><td>240</td><td>19.9</td><td>Chinstrap penguin (Pygoscelis antarctica)</td></tr>\n",
       "\t<tr><th scope=row>63771</th><td>240</td><td>20.0</td><td>Chinstrap penguin (Pygoscelis antarctica)</td></tr>\n",
       "\t<tr><th scope=row>63772</th><td>240</td><td>20.1</td><td>Chinstrap penguin (Pygoscelis antarctica)</td></tr>\n",
       "\t<tr><th scope=row>63773</th><td>240</td><td>20.2</td><td>Chinstrap penguin (Pygoscelis antarctica)</td></tr>\n",
       "\t<tr><th scope=row>63774</th><td>240</td><td>20.3</td><td>Chinstrap penguin (Pygoscelis antarctica)</td></tr>\n",
       "\t<tr><th scope=row>63775</th><td>240</td><td>20.4</td><td>Chinstrap penguin (Pygoscelis antarctica)</td></tr>\n",
       "\t<tr><th scope=row>63776</th><td>240</td><td>20.5</td><td>Chinstrap penguin (Pygoscelis antarctica)</td></tr>\n",
       "\t<tr><th scope=row>63777</th><td>240</td><td>20.6</td><td>Chinstrap penguin (Pygoscelis antarctica)</td></tr>\n",
       "\t<tr><th scope=row>63778</th><td>240</td><td>20.7</td><td>Chinstrap penguin (Pygoscelis antarctica)</td></tr>\n",
       "\t<tr><th scope=row>63779</th><td>240</td><td>20.8</td><td>Chinstrap penguin (Pygoscelis antarctica)</td></tr>\n",
       "\t<tr><th scope=row>63780</th><td>240</td><td>20.9</td><td>Chinstrap penguin (Pygoscelis antarctica)</td></tr>\n",
       "\t<tr><th scope=row>63781</th><td>240</td><td>21.0</td><td>Chinstrap penguin (Pygoscelis antarctica)</td></tr>\n",
       "\t<tr><th scope=row>63782</th><td>240</td><td>21.1</td><td>Chinstrap penguin (Pygoscelis antarctica)</td></tr>\n",
       "\t<tr><th scope=row>63783</th><td>240</td><td>21.2</td><td>Chinstrap penguin (Pygoscelis antarctica)</td></tr>\n",
       "\t<tr><th scope=row>63784</th><td>240</td><td>21.3</td><td>Chinstrap penguin (Pygoscelis antarctica)</td></tr>\n",
       "\t<tr><th scope=row>63785</th><td>240</td><td>21.4</td><td>Chinstrap penguin (Pygoscelis antarctica)</td></tr>\n",
       "\t<tr><th scope=row>63786</th><td>240</td><td>21.5</td><td>Chinstrap penguin (Pygoscelis antarctica)</td></tr>\n",
       "\t<tr><th scope=row>63787</th><td>240</td><td>21.6</td><td>Chinstrap penguin (Pygoscelis antarctica)</td></tr>\n",
       "\t<tr><th scope=row>63788</th><td>240</td><td>21.7</td><td>Chinstrap penguin (Pygoscelis antarctica)</td></tr>\n",
       "\t<tr><th scope=row>63789</th><td>240</td><td>21.8</td><td>Chinstrap penguin (Pygoscelis antarctica)</td></tr>\n",
       "\t<tr><th scope=row>63790</th><td>240</td><td>21.9</td><td>Chinstrap penguin (Pygoscelis antarctica)</td></tr>\n",
       "\t<tr><th scope=row>63791</th><td>240</td><td>22.0</td><td>Chinstrap penguin (Pygoscelis antarctica)</td></tr>\n",
       "</tbody>\n",
       "</table>\n"
      ],
      "text/latex": [
       "A data.frame: 63791 × 3\n",
       "\\begin{tabular}{r|lll}\n",
       "  & Flipper.Length..mm. & Culmen.Depth..mm. & species\\\\\n",
       "  & <dbl> & <dbl> & <fct>\\\\\n",
       "\\hline\n",
       "\t1 & 170 & 13.0 & Adelie Penguin (Pygoscelis adeliae)\\\\\n",
       "\t2 & 170 & 13.1 & Adelie Penguin (Pygoscelis adeliae)\\\\\n",
       "\t3 & 170 & 13.2 & Adelie Penguin (Pygoscelis adeliae)\\\\\n",
       "\t4 & 170 & 13.3 & Adelie Penguin (Pygoscelis adeliae)\\\\\n",
       "\t5 & 170 & 13.4 & Adelie Penguin (Pygoscelis adeliae)\\\\\n",
       "\t6 & 170 & 13.5 & Adelie Penguin (Pygoscelis adeliae)\\\\\n",
       "\t7 & 170 & 13.6 & Adelie Penguin (Pygoscelis adeliae)\\\\\n",
       "\t8 & 170 & 13.7 & Adelie Penguin (Pygoscelis adeliae)\\\\\n",
       "\t9 & 170 & 13.8 & Adelie Penguin (Pygoscelis adeliae)\\\\\n",
       "\t10 & 170 & 13.9 & Adelie Penguin (Pygoscelis adeliae)\\\\\n",
       "\t11 & 170 & 14.0 & Adelie Penguin (Pygoscelis adeliae)\\\\\n",
       "\t12 & 170 & 14.1 & Adelie Penguin (Pygoscelis adeliae)\\\\\n",
       "\t13 & 170 & 14.2 & Adelie Penguin (Pygoscelis adeliae)\\\\\n",
       "\t14 & 170 & 14.3 & Adelie Penguin (Pygoscelis adeliae)\\\\\n",
       "\t15 & 170 & 14.4 & Adelie Penguin (Pygoscelis adeliae)\\\\\n",
       "\t16 & 170 & 14.5 & Adelie Penguin (Pygoscelis adeliae)\\\\\n",
       "\t17 & 170 & 14.6 & Adelie Penguin (Pygoscelis adeliae)\\\\\n",
       "\t18 & 170 & 14.7 & Adelie Penguin (Pygoscelis adeliae)\\\\\n",
       "\t19 & 170 & 14.8 & Adelie Penguin (Pygoscelis adeliae)\\\\\n",
       "\t20 & 170 & 14.9 & Adelie Penguin (Pygoscelis adeliae)\\\\\n",
       "\t21 & 170 & 15.0 & Adelie Penguin (Pygoscelis adeliae)\\\\\n",
       "\t22 & 170 & 15.1 & Adelie Penguin (Pygoscelis adeliae)\\\\\n",
       "\t23 & 170 & 15.2 & Adelie Penguin (Pygoscelis adeliae)\\\\\n",
       "\t24 & 170 & 15.3 & Adelie Penguin (Pygoscelis adeliae)\\\\\n",
       "\t25 & 170 & 15.4 & Adelie Penguin (Pygoscelis adeliae)\\\\\n",
       "\t26 & 170 & 15.5 & Adelie Penguin (Pygoscelis adeliae)\\\\\n",
       "\t27 & 170 & 15.6 & Adelie Penguin (Pygoscelis adeliae)\\\\\n",
       "\t28 & 170 & 15.7 & Adelie Penguin (Pygoscelis adeliae)\\\\\n",
       "\t29 & 170 & 15.8 & Adelie Penguin (Pygoscelis adeliae)\\\\\n",
       "\t30 & 170 & 15.9 & Adelie Penguin (Pygoscelis adeliae)\\\\\n",
       "\t⋮ & ⋮ & ⋮ & ⋮\\\\\n",
       "\t63762 & 240 & 19.1 & Chinstrap penguin (Pygoscelis antarctica)\\\\\n",
       "\t63763 & 240 & 19.2 & Chinstrap penguin (Pygoscelis antarctica)\\\\\n",
       "\t63764 & 240 & 19.3 & Chinstrap penguin (Pygoscelis antarctica)\\\\\n",
       "\t63765 & 240 & 19.4 & Chinstrap penguin (Pygoscelis antarctica)\\\\\n",
       "\t63766 & 240 & 19.5 & Chinstrap penguin (Pygoscelis antarctica)\\\\\n",
       "\t63767 & 240 & 19.6 & Chinstrap penguin (Pygoscelis antarctica)\\\\\n",
       "\t63768 & 240 & 19.7 & Chinstrap penguin (Pygoscelis antarctica)\\\\\n",
       "\t63769 & 240 & 19.8 & Chinstrap penguin (Pygoscelis antarctica)\\\\\n",
       "\t63770 & 240 & 19.9 & Chinstrap penguin (Pygoscelis antarctica)\\\\\n",
       "\t63771 & 240 & 20.0 & Chinstrap penguin (Pygoscelis antarctica)\\\\\n",
       "\t63772 & 240 & 20.1 & Chinstrap penguin (Pygoscelis antarctica)\\\\\n",
       "\t63773 & 240 & 20.2 & Chinstrap penguin (Pygoscelis antarctica)\\\\\n",
       "\t63774 & 240 & 20.3 & Chinstrap penguin (Pygoscelis antarctica)\\\\\n",
       "\t63775 & 240 & 20.4 & Chinstrap penguin (Pygoscelis antarctica)\\\\\n",
       "\t63776 & 240 & 20.5 & Chinstrap penguin (Pygoscelis antarctica)\\\\\n",
       "\t63777 & 240 & 20.6 & Chinstrap penguin (Pygoscelis antarctica)\\\\\n",
       "\t63778 & 240 & 20.7 & Chinstrap penguin (Pygoscelis antarctica)\\\\\n",
       "\t63779 & 240 & 20.8 & Chinstrap penguin (Pygoscelis antarctica)\\\\\n",
       "\t63780 & 240 & 20.9 & Chinstrap penguin (Pygoscelis antarctica)\\\\\n",
       "\t63781 & 240 & 21.0 & Chinstrap penguin (Pygoscelis antarctica)\\\\\n",
       "\t63782 & 240 & 21.1 & Chinstrap penguin (Pygoscelis antarctica)\\\\\n",
       "\t63783 & 240 & 21.2 & Chinstrap penguin (Pygoscelis antarctica)\\\\\n",
       "\t63784 & 240 & 21.3 & Chinstrap penguin (Pygoscelis antarctica)\\\\\n",
       "\t63785 & 240 & 21.4 & Chinstrap penguin (Pygoscelis antarctica)\\\\\n",
       "\t63786 & 240 & 21.5 & Chinstrap penguin (Pygoscelis antarctica)\\\\\n",
       "\t63787 & 240 & 21.6 & Chinstrap penguin (Pygoscelis antarctica)\\\\\n",
       "\t63788 & 240 & 21.7 & Chinstrap penguin (Pygoscelis antarctica)\\\\\n",
       "\t63789 & 240 & 21.8 & Chinstrap penguin (Pygoscelis antarctica)\\\\\n",
       "\t63790 & 240 & 21.9 & Chinstrap penguin (Pygoscelis antarctica)\\\\\n",
       "\t63791 & 240 & 22.0 & Chinstrap penguin (Pygoscelis antarctica)\\\\\n",
       "\\end{tabular}\n"
      ],
      "text/markdown": [
       "\n",
       "A data.frame: 63791 × 3\n",
       "\n",
       "| <!--/--> | Flipper.Length..mm. &lt;dbl&gt; | Culmen.Depth..mm. &lt;dbl&gt; | species &lt;fct&gt; |\n",
       "|---|---|---|---|\n",
       "| 1 | 170 | 13.0 | Adelie Penguin (Pygoscelis adeliae) |\n",
       "| 2 | 170 | 13.1 | Adelie Penguin (Pygoscelis adeliae) |\n",
       "| 3 | 170 | 13.2 | Adelie Penguin (Pygoscelis adeliae) |\n",
       "| 4 | 170 | 13.3 | Adelie Penguin (Pygoscelis adeliae) |\n",
       "| 5 | 170 | 13.4 | Adelie Penguin (Pygoscelis adeliae) |\n",
       "| 6 | 170 | 13.5 | Adelie Penguin (Pygoscelis adeliae) |\n",
       "| 7 | 170 | 13.6 | Adelie Penguin (Pygoscelis adeliae) |\n",
       "| 8 | 170 | 13.7 | Adelie Penguin (Pygoscelis adeliae) |\n",
       "| 9 | 170 | 13.8 | Adelie Penguin (Pygoscelis adeliae) |\n",
       "| 10 | 170 | 13.9 | Adelie Penguin (Pygoscelis adeliae) |\n",
       "| 11 | 170 | 14.0 | Adelie Penguin (Pygoscelis adeliae) |\n",
       "| 12 | 170 | 14.1 | Adelie Penguin (Pygoscelis adeliae) |\n",
       "| 13 | 170 | 14.2 | Adelie Penguin (Pygoscelis adeliae) |\n",
       "| 14 | 170 | 14.3 | Adelie Penguin (Pygoscelis adeliae) |\n",
       "| 15 | 170 | 14.4 | Adelie Penguin (Pygoscelis adeliae) |\n",
       "| 16 | 170 | 14.5 | Adelie Penguin (Pygoscelis adeliae) |\n",
       "| 17 | 170 | 14.6 | Adelie Penguin (Pygoscelis adeliae) |\n",
       "| 18 | 170 | 14.7 | Adelie Penguin (Pygoscelis adeliae) |\n",
       "| 19 | 170 | 14.8 | Adelie Penguin (Pygoscelis adeliae) |\n",
       "| 20 | 170 | 14.9 | Adelie Penguin (Pygoscelis adeliae) |\n",
       "| 21 | 170 | 15.0 | Adelie Penguin (Pygoscelis adeliae) |\n",
       "| 22 | 170 | 15.1 | Adelie Penguin (Pygoscelis adeliae) |\n",
       "| 23 | 170 | 15.2 | Adelie Penguin (Pygoscelis adeliae) |\n",
       "| 24 | 170 | 15.3 | Adelie Penguin (Pygoscelis adeliae) |\n",
       "| 25 | 170 | 15.4 | Adelie Penguin (Pygoscelis adeliae) |\n",
       "| 26 | 170 | 15.5 | Adelie Penguin (Pygoscelis adeliae) |\n",
       "| 27 | 170 | 15.6 | Adelie Penguin (Pygoscelis adeliae) |\n",
       "| 28 | 170 | 15.7 | Adelie Penguin (Pygoscelis adeliae) |\n",
       "| 29 | 170 | 15.8 | Adelie Penguin (Pygoscelis adeliae) |\n",
       "| 30 | 170 | 15.9 | Adelie Penguin (Pygoscelis adeliae) |\n",
       "| ⋮ | ⋮ | ⋮ | ⋮ |\n",
       "| 63762 | 240 | 19.1 | Chinstrap penguin (Pygoscelis antarctica) |\n",
       "| 63763 | 240 | 19.2 | Chinstrap penguin (Pygoscelis antarctica) |\n",
       "| 63764 | 240 | 19.3 | Chinstrap penguin (Pygoscelis antarctica) |\n",
       "| 63765 | 240 | 19.4 | Chinstrap penguin (Pygoscelis antarctica) |\n",
       "| 63766 | 240 | 19.5 | Chinstrap penguin (Pygoscelis antarctica) |\n",
       "| 63767 | 240 | 19.6 | Chinstrap penguin (Pygoscelis antarctica) |\n",
       "| 63768 | 240 | 19.7 | Chinstrap penguin (Pygoscelis antarctica) |\n",
       "| 63769 | 240 | 19.8 | Chinstrap penguin (Pygoscelis antarctica) |\n",
       "| 63770 | 240 | 19.9 | Chinstrap penguin (Pygoscelis antarctica) |\n",
       "| 63771 | 240 | 20.0 | Chinstrap penguin (Pygoscelis antarctica) |\n",
       "| 63772 | 240 | 20.1 | Chinstrap penguin (Pygoscelis antarctica) |\n",
       "| 63773 | 240 | 20.2 | Chinstrap penguin (Pygoscelis antarctica) |\n",
       "| 63774 | 240 | 20.3 | Chinstrap penguin (Pygoscelis antarctica) |\n",
       "| 63775 | 240 | 20.4 | Chinstrap penguin (Pygoscelis antarctica) |\n",
       "| 63776 | 240 | 20.5 | Chinstrap penguin (Pygoscelis antarctica) |\n",
       "| 63777 | 240 | 20.6 | Chinstrap penguin (Pygoscelis antarctica) |\n",
       "| 63778 | 240 | 20.7 | Chinstrap penguin (Pygoscelis antarctica) |\n",
       "| 63779 | 240 | 20.8 | Chinstrap penguin (Pygoscelis antarctica) |\n",
       "| 63780 | 240 | 20.9 | Chinstrap penguin (Pygoscelis antarctica) |\n",
       "| 63781 | 240 | 21.0 | Chinstrap penguin (Pygoscelis antarctica) |\n",
       "| 63782 | 240 | 21.1 | Chinstrap penguin (Pygoscelis antarctica) |\n",
       "| 63783 | 240 | 21.2 | Chinstrap penguin (Pygoscelis antarctica) |\n",
       "| 63784 | 240 | 21.3 | Chinstrap penguin (Pygoscelis antarctica) |\n",
       "| 63785 | 240 | 21.4 | Chinstrap penguin (Pygoscelis antarctica) |\n",
       "| 63786 | 240 | 21.5 | Chinstrap penguin (Pygoscelis antarctica) |\n",
       "| 63787 | 240 | 21.6 | Chinstrap penguin (Pygoscelis antarctica) |\n",
       "| 63788 | 240 | 21.7 | Chinstrap penguin (Pygoscelis antarctica) |\n",
       "| 63789 | 240 | 21.8 | Chinstrap penguin (Pygoscelis antarctica) |\n",
       "| 63790 | 240 | 21.9 | Chinstrap penguin (Pygoscelis antarctica) |\n",
       "| 63791 | 240 | 22.0 | Chinstrap penguin (Pygoscelis antarctica) |\n",
       "\n"
      ],
      "text/plain": [
       "      Flipper.Length..mm. Culmen.Depth..mm.\n",
       "1     170                 13.0             \n",
       "2     170                 13.1             \n",
       "3     170                 13.2             \n",
       "4     170                 13.3             \n",
       "5     170                 13.4             \n",
       "6     170                 13.5             \n",
       "7     170                 13.6             \n",
       "8     170                 13.7             \n",
       "9     170                 13.8             \n",
       "10    170                 13.9             \n",
       "11    170                 14.0             \n",
       "12    170                 14.1             \n",
       "13    170                 14.2             \n",
       "14    170                 14.3             \n",
       "15    170                 14.4             \n",
       "16    170                 14.5             \n",
       "17    170                 14.6             \n",
       "18    170                 14.7             \n",
       "19    170                 14.8             \n",
       "20    170                 14.9             \n",
       "21    170                 15.0             \n",
       "22    170                 15.1             \n",
       "23    170                 15.2             \n",
       "24    170                 15.3             \n",
       "25    170                 15.4             \n",
       "26    170                 15.5             \n",
       "27    170                 15.6             \n",
       "28    170                 15.7             \n",
       "29    170                 15.8             \n",
       "30    170                 15.9             \n",
       "⋮     ⋮                   ⋮                \n",
       "63762 240                 19.1             \n",
       "63763 240                 19.2             \n",
       "63764 240                 19.3             \n",
       "63765 240                 19.4             \n",
       "63766 240                 19.5             \n",
       "63767 240                 19.6             \n",
       "63768 240                 19.7             \n",
       "63769 240                 19.8             \n",
       "63770 240                 19.9             \n",
       "63771 240                 20.0             \n",
       "63772 240                 20.1             \n",
       "63773 240                 20.2             \n",
       "63774 240                 20.3             \n",
       "63775 240                 20.4             \n",
       "63776 240                 20.5             \n",
       "63777 240                 20.6             \n",
       "63778 240                 20.7             \n",
       "63779 240                 20.8             \n",
       "63780 240                 20.9             \n",
       "63781 240                 21.0             \n",
       "63782 240                 21.1             \n",
       "63783 240                 21.2             \n",
       "63784 240                 21.3             \n",
       "63785 240                 21.4             \n",
       "63786 240                 21.5             \n",
       "63787 240                 21.6             \n",
       "63788 240                 21.7             \n",
       "63789 240                 21.8             \n",
       "63790 240                 21.9             \n",
       "63791 240                 22.0             \n",
       "      species                                  \n",
       "1     Adelie Penguin (Pygoscelis adeliae)      \n",
       "2     Adelie Penguin (Pygoscelis adeliae)      \n",
       "3     Adelie Penguin (Pygoscelis adeliae)      \n",
       "4     Adelie Penguin (Pygoscelis adeliae)      \n",
       "5     Adelie Penguin (Pygoscelis adeliae)      \n",
       "6     Adelie Penguin (Pygoscelis adeliae)      \n",
       "7     Adelie Penguin (Pygoscelis adeliae)      \n",
       "8     Adelie Penguin (Pygoscelis adeliae)      \n",
       "9     Adelie Penguin (Pygoscelis adeliae)      \n",
       "10    Adelie Penguin (Pygoscelis adeliae)      \n",
       "11    Adelie Penguin (Pygoscelis adeliae)      \n",
       "12    Adelie Penguin (Pygoscelis adeliae)      \n",
       "13    Adelie Penguin (Pygoscelis adeliae)      \n",
       "14    Adelie Penguin (Pygoscelis adeliae)      \n",
       "15    Adelie Penguin (Pygoscelis adeliae)      \n",
       "16    Adelie Penguin (Pygoscelis adeliae)      \n",
       "17    Adelie Penguin (Pygoscelis adeliae)      \n",
       "18    Adelie Penguin (Pygoscelis adeliae)      \n",
       "19    Adelie Penguin (Pygoscelis adeliae)      \n",
       "20    Adelie Penguin (Pygoscelis adeliae)      \n",
       "21    Adelie Penguin (Pygoscelis adeliae)      \n",
       "22    Adelie Penguin (Pygoscelis adeliae)      \n",
       "23    Adelie Penguin (Pygoscelis adeliae)      \n",
       "24    Adelie Penguin (Pygoscelis adeliae)      \n",
       "25    Adelie Penguin (Pygoscelis adeliae)      \n",
       "26    Adelie Penguin (Pygoscelis adeliae)      \n",
       "27    Adelie Penguin (Pygoscelis adeliae)      \n",
       "28    Adelie Penguin (Pygoscelis adeliae)      \n",
       "29    Adelie Penguin (Pygoscelis adeliae)      \n",
       "30    Adelie Penguin (Pygoscelis adeliae)      \n",
       "⋮     ⋮                                        \n",
       "63762 Chinstrap penguin (Pygoscelis antarctica)\n",
       "63763 Chinstrap penguin (Pygoscelis antarctica)\n",
       "63764 Chinstrap penguin (Pygoscelis antarctica)\n",
       "63765 Chinstrap penguin (Pygoscelis antarctica)\n",
       "63766 Chinstrap penguin (Pygoscelis antarctica)\n",
       "63767 Chinstrap penguin (Pygoscelis antarctica)\n",
       "63768 Chinstrap penguin (Pygoscelis antarctica)\n",
       "63769 Chinstrap penguin (Pygoscelis antarctica)\n",
       "63770 Chinstrap penguin (Pygoscelis antarctica)\n",
       "63771 Chinstrap penguin (Pygoscelis antarctica)\n",
       "63772 Chinstrap penguin (Pygoscelis antarctica)\n",
       "63773 Chinstrap penguin (Pygoscelis antarctica)\n",
       "63774 Chinstrap penguin (Pygoscelis antarctica)\n",
       "63775 Chinstrap penguin (Pygoscelis antarctica)\n",
       "63776 Chinstrap penguin (Pygoscelis antarctica)\n",
       "63777 Chinstrap penguin (Pygoscelis antarctica)\n",
       "63778 Chinstrap penguin (Pygoscelis antarctica)\n",
       "63779 Chinstrap penguin (Pygoscelis antarctica)\n",
       "63780 Chinstrap penguin (Pygoscelis antarctica)\n",
       "63781 Chinstrap penguin (Pygoscelis antarctica)\n",
       "63782 Chinstrap penguin (Pygoscelis antarctica)\n",
       "63783 Chinstrap penguin (Pygoscelis antarctica)\n",
       "63784 Chinstrap penguin (Pygoscelis antarctica)\n",
       "63785 Chinstrap penguin (Pygoscelis antarctica)\n",
       "63786 Chinstrap penguin (Pygoscelis antarctica)\n",
       "63787 Chinstrap penguin (Pygoscelis antarctica)\n",
       "63788 Chinstrap penguin (Pygoscelis antarctica)\n",
       "63789 Chinstrap penguin (Pygoscelis antarctica)\n",
       "63790 Chinstrap penguin (Pygoscelis antarctica)\n",
       "63791 Chinstrap penguin (Pygoscelis antarctica)"
      ]
     },
     "metadata": {},
     "output_type": "display_data"
    }
   ],
   "source": [
    "area_prediction = data.frame(cbind(area, species_pr))\n",
    "names(area_prediction)[3] = 'species'\n",
    "area_prediction"
   ]
  },
  {
   "cell_type": "code",
   "execution_count": 34,
   "id": "bf5c1715-7240-4a54-9cdd-debb720af210",
   "metadata": {},
   "outputs": [
    {
     "data": {
      "image/png": "[encoded data removed]",
      "text/plain": [
       "plot without title"
      ]
     },
     "metadata": {
      "image/png": {
       "height": 420,
       "width": 420
      }
     },
     "output_type": "display_data"
    }
   ],
   "source": [
    "library(\"RColorBrewer\")\n",
    "P = ggplot(data = area_prediction, aes(x=Flipper.Length..mm., y=Culmen.Depth..mm., col=species)) + geom_point()\n",
    "P + geom_point(data = test[[1]], aes(x=Flipper.Length..mm., y=Culmen.Depth..mm., col=Species, size=5)) + scale_color_brewer(palette = \"Paired\")"
   ]
  },
  {
   "cell_type": "markdown",
   "id": "dab49bf9-c4df-4bac-8fc0-e3612c4aac03",
   "metadata": {},
   "source": [
    "## Cross Validation\n",
    "\n",
    "Then implement the training and testing over the five partitions of the data to obtain our crossvalidated error estimates.\n",
    "\n"
   ]
  },
  {
   "cell_type": "code",
   "execution_count": null,
   "id": "9607d5ba-10f8-482a-9fa2-caa22cf4b05d",
   "metadata": {},
   "outputs": [],
   "source": []
  },
  {
   "cell_type": "markdown",
   "id": "e7ade650-c899-47b2-b901-bb9b82ccd6fa",
   "metadata": {},
   "source": [
    "## Using more variables\n",
    "\n",
    "Decision Trees have to huge advantages over other machine models we will learn about:  They are the simplest possible model from a mathematical point of view (there are actually some subtleties in how they are trained and in the parameters we could use on them) which means they are easy to explain to lay people.\n",
    "\n",
    "There other advantage is that they are easy to visually represent even in cases with multiple variables."
   ]
  },
  {
   "cell_type": "code",
   "execution_count": null,
   "id": "9b54a3b9-976f-4c95-b740-7e8e398162c1",
   "metadata": {},
   "outputs": [],
   "source": []
  }
 ],
 "metadata": {
  "kernelspec": {
   "display_name": "R",
   "language": "R",
   "name": "ir"
  },
  "language_info": {
   "codemirror_mode": "r",
   "file_extension": ".r",
   "mimetype": "text/x-r-source",
   "name": "R",
   "pygments_lexer": "r",
   "version": "4.0.4"
  }
 },
 "nbformat": 4,
 "nbformat_minor": 5
}
